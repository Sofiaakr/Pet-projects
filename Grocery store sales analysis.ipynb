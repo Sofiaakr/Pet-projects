{
 "cells": [
  {
   "cell_type": "code",
   "execution_count": 1,
   "metadata": {
    "ExecuteTime": {
     "end_time": "2024-08-24T15:51:57.966712Z",
     "start_time": "2024-08-24T15:51:49.393578Z"
    },
    "scrolled": true
   },
   "outputs": [
    {
     "name": "stdout",
     "output_type": "stream",
     "text": [
      "Requirement already up-to-date: pandas in ./opt/anaconda3/lib/python3.8/site-packages (2.0.3)\n",
      "Requirement already up-to-date: numpy in ./opt/anaconda3/lib/python3.8/site-packages (1.24.4)\n",
      "Requirement already up-to-date: openpyxl in ./opt/anaconda3/lib/python3.8/site-packages (3.1.5)\n",
      "Requirement already satisfied, skipping upgrade: tzdata>=2022.1 in ./opt/anaconda3/lib/python3.8/site-packages (from pandas) (2023.4)\n",
      "Requirement already satisfied, skipping upgrade: python-dateutil>=2.8.2 in ./opt/anaconda3/lib/python3.8/site-packages (from pandas) (2.9.0.post0)\n",
      "Requirement already satisfied, skipping upgrade: pytz>=2020.1 in ./opt/anaconda3/lib/python3.8/site-packages (from pandas) (2020.1)\n",
      "Requirement already satisfied, skipping upgrade: et-xmlfile in ./opt/anaconda3/lib/python3.8/site-packages (from openpyxl) (1.0.1)\n",
      "Requirement already satisfied, skipping upgrade: six>=1.5 in ./opt/anaconda3/lib/python3.8/site-packages (from python-dateutil>=2.8.2->pandas) (1.15.0)\n",
      "Note: you may need to restart the kernel to use updated packages.\n"
     ]
    }
   ],
   "source": [
    "pip install --upgrade pandas numpy openpyxl\n",
    "pip install --upgrade numpy statsmodels"
   ]
  },
  {
   "cell_type": "code",
   "execution_count": 4,
   "metadata": {
    "ExecuteTime": {
     "end_time": "2024-08-27T15:38:03.314543Z",
     "start_time": "2024-08-27T15:37:58.895701Z"
    }
   },
   "outputs": [],
   "source": [
    "import math\n",
    "import matplotlib.pyplot as plt\n",
    "import numpy as np\n",
    "import pandas as pd\n",
    "import random\n",
    "import re\n",
    "import scipy\n",
    "from scipy.stats import norm\n",
    "from scipy import stats as st\n",
    "import seaborn as sns\n",
    "import statsmodels.api as sm"
   ]
  },
  {
   "cell_type": "markdown",
   "metadata": {},
   "source": [
    "# Preliminary data analysis"
   ]
  },
  {
   "cell_type": "code",
   "execution_count": 5,
   "metadata": {
    "ExecuteTime": {
     "end_time": "2024-08-27T15:38:44.975805Z",
     "start_time": "2024-08-27T15:38:08.393734Z"
    }
   },
   "outputs": [],
   "source": [
    "path_to_file = 'Grocery Database.xlsx'\n",
    "df = pd.read_excel(path_to_file)"
   ]
  },
  {
   "cell_type": "markdown",
   "metadata": {},
   "source": [
    "__Data shape overview__"
   ]
  },
  {
   "cell_type": "code",
   "execution_count": 18,
   "metadata": {
    "ExecuteTime": {
     "end_time": "2024-08-24T16:37:10.161619Z",
     "start_time": "2024-08-24T16:37:10.157763Z"
    }
   },
   "outputs": [
    {
     "name": "stdout",
     "output_type": "stream",
     "text": [
      "The set contains 50447 rows and 32 columns.\n"
     ]
    }
   ],
   "source": [
    "df.shape\n",
    "print(f'The set contains {df.shape[0]} rows and {df.shape[1]} columns.')"
   ]
  },
  {
   "cell_type": "markdown",
   "metadata": {},
   "source": [
    "__Let us review the data types in the dataset__"
   ]
  },
  {
   "cell_type": "code",
   "execution_count": 19,
   "metadata": {
    "ExecuteTime": {
     "end_time": "2024-08-24T16:37:12.022420Z",
     "start_time": "2024-08-24T16:37:11.967884Z"
    },
    "scrolled": true
   },
   "outputs": [
    {
     "name": "stdout",
     "output_type": "stream",
     "text": [
      "<class 'pandas.core.frame.DataFrame'>\n",
      "RangeIndex: 50447 entries, 0 to 50446\n",
      "Data columns (total 32 columns):\n",
      " #   Column               Non-Null Count  Dtype         \n",
      "---  ------               --------------  -----         \n",
      " 0   Receipt Number       50447 non-null  object        \n",
      " 1   Date                 50447 non-null  datetime64[ns]\n",
      " 2   Year                 50447 non-null  int64         \n",
      " 3   Month                50447 non-null  int64         \n",
      " 4   Time                 50447 non-null  object        \n",
      " 5   Mobile Number        50447 non-null  int64         \n",
      " 6   Membership ID        50447 non-null  object        \n",
      " 7   Loyalty Card Points  50447 non-null  int64         \n",
      " 8   Age                  50447 non-null  int64         \n",
      " 9   Gender               50447 non-null  object        \n",
      " 10  City                 50447 non-null  object        \n",
      " 11  Country              50447 non-null  object        \n",
      " 12  Category             50447 non-null  object        \n",
      " 13  Sub_Category         50447 non-null  object        \n",
      " 14  Items                50447 non-null  object        \n",
      " 15  Brand                50447 non-null  object        \n",
      " 16  Description          50447 non-null  object        \n",
      " 17  Price                50447 non-null  float64       \n",
      " 18  QTY                  50447 non-null  int64         \n",
      " 19  DISC                 50447 non-null  float64       \n",
      " 20  Amount               50447 non-null  float64       \n",
      " 21  Net Bill Amount      50447 non-null  float64       \n",
      " 22  GST                  50447 non-null  float64       \n",
      " 23  Gross Bill Amount    50447 non-null  float64       \n",
      " 24  Payment Mode         50447 non-null  object        \n",
      " 25  Bank Name            50447 non-null  object        \n",
      " 26  % Profit Margin      50447 non-null  float64       \n",
      " 27  % Operating Cost     50447 non-null  float64       \n",
      " 28  % Product Cost       50447 non-null  float64       \n",
      " 29  Profit Margin        50447 non-null  float64       \n",
      " 30  Operating Cost       50447 non-null  float64       \n",
      " 31  Product Cost         50447 non-null  float64       \n",
      "dtypes: datetime64[ns](1), float64(12), int64(6), object(13)\n",
      "memory usage: 12.3+ MB\n"
     ]
    }
   ],
   "source": [
    "df.info()"
   ]
  },
  {
   "cell_type": "markdown",
   "metadata": {},
   "source": [
    "__Let us check whether the data set has missing values__\n"
   ]
  },
  {
   "cell_type": "code",
   "execution_count": 20,
   "metadata": {
    "ExecuteTime": {
     "end_time": "2024-08-24T16:37:14.773878Z",
     "start_time": "2024-08-24T16:37:14.728265Z"
    }
   },
   "outputs": [
    {
     "data": {
      "text/plain": [
       "Receipt Number         0\n",
       "Date                   0\n",
       "Year                   0\n",
       "Month                  0\n",
       "Time                   0\n",
       "Mobile Number          0\n",
       "Membership ID          0\n",
       "Loyalty Card Points    0\n",
       "Age                    0\n",
       "Gender                 0\n",
       "City                   0\n",
       "Country                0\n",
       "Category               0\n",
       "Sub_Category           0\n",
       "Items                  0\n",
       "Brand                  0\n",
       "Description            0\n",
       "Price                  0\n",
       "QTY                    0\n",
       "DISC                   0\n",
       "Amount                 0\n",
       "Net Bill Amount        0\n",
       "GST                    0\n",
       "Gross Bill Amount      0\n",
       "Payment Mode           0\n",
       "Bank Name              0\n",
       "% Profit Margin        0\n",
       "% Operating Cost       0\n",
       "% Product Cost         0\n",
       "Profit Margin          0\n",
       "Operating Cost         0\n",
       "Product Cost           0\n",
       "dtype: int64"
      ]
     },
     "execution_count": 20,
     "metadata": {},
     "output_type": "execute_result"
    }
   ],
   "source": [
    "df.isna().sum()"
   ]
  },
  {
   "cell_type": "markdown",
   "metadata": {},
   "source": [
    "There are no missing values in the data set."
   ]
  },
  {
   "cell_type": "markdown",
   "metadata": {},
   "source": [
    "# Main part of data analysis"
   ]
  },
  {
   "cell_type": "markdown",
   "metadata": {},
   "source": [
    "__1: What is the most common way of payment among costumers?__\n"
   ]
  },
  {
   "cell_type": "code",
   "execution_count": 21,
   "metadata": {
    "ExecuteTime": {
     "end_time": "2024-08-24T16:37:18.079974Z",
     "start_time": "2024-08-24T16:37:18.069486Z"
    }
   },
   "outputs": [
    {
     "data": {
      "text/plain": [
       "Payment Mode\n",
       "Card      17149\n",
       "Wallet    16867\n",
       "Cash      16431\n",
       "Name: count, dtype: int64"
      ]
     },
     "execution_count": 21,
     "metadata": {},
     "output_type": "execute_result"
    }
   ],
   "source": [
    "df['Payment Mode'].value_counts()"
   ]
  },
  {
   "cell_type": "markdown",
   "metadata": {},
   "source": [
    "__Conclusion__: We can see that the most popular way of payment among customesr is card.\n",
    "\n",
    "__Business idea__: One can develop a mobile app that allows customers to make contactless payments. This could include features like order-ahead and curbside pickup, creating a convenient and safe shopping experience. \n",
    "\n",
    "\n"
   ]
  },
  {
   "cell_type": "markdown",
   "metadata": {},
   "source": [
    "__2: What are the most commonly purchased product categories?__"
   ]
  },
  {
   "cell_type": "code",
   "execution_count": 22,
   "metadata": {
    "ExecuteTime": {
     "end_time": "2024-08-24T16:37:21.347318Z",
     "start_time": "2024-08-24T16:37:21.302973Z"
    }
   },
   "outputs": [
    {
     "data": {
      "text/plain": [
       "Category\n",
       "Bakery & Breakfast           6770\n",
       "Beauty                       5205\n",
       "Beverages                    2208\n",
       "Choco, Snacks, Sweets        3019\n",
       "Dairy, Chilled & Eggs        3381\n",
       "Frozen                       6393\n",
       "Fruit & Vegetable            4370\n",
       "Health                       1008\n",
       "Household                    1881\n",
       "Kitchen & Dining             2552\n",
       "Meat & Seafood               2149\n",
       "Mother & Baby                2064\n",
       "Party Supplies               1836\n",
       "Pet Care                     3465\n",
       "Rice & Cooking Essentials    2432\n",
       "Wines, Beers & Spirits       1714\n",
       "Name: Receipt_Number, dtype: int64"
      ]
     },
     "execution_count": 22,
     "metadata": {},
     "output_type": "execute_result"
    }
   ],
   "source": [
    "df.rename(columns = {'Receipt Number':'Receipt_Number'}, inplace = True)\n",
    "df.groupby(['Category']).Receipt_Number.count()"
   ]
  },
  {
   "cell_type": "markdown",
   "metadata": {},
   "source": [
    "__Conclusion__: One sees that the \"Bakery and breakfast\" is the most purchuased category.\n",
    "\n",
    "__Business ideas__: 1. Gourmet Breakfast Delivery Service: Create a business that specializes in delivering gourmet breakfast options to people's homes or offices. \n",
    "\n",
    "2.Healthy Breakfast Subscription Box: Develop a subscription box service that delivers healthy breakfast options to subscribers each month. Include items like granola, yogurt, whole-grain muffins, and fresh fruits.\n"
   ]
  },
  {
   "cell_type": "markdown",
   "metadata": {},
   "source": [
    "__3: What is the average price for the categories?__"
   ]
  },
  {
   "cell_type": "code",
   "execution_count": 15,
   "metadata": {
    "ExecuteTime": {
     "end_time": "2024-08-26T16:40:21.496462Z",
     "start_time": "2024-08-26T16:40:21.485116Z"
    }
   },
   "outputs": [
    {
     "data": {
      "text/plain": [
       "Category\n",
       "Bakery & Breakfast            5.222038\n",
       "Beauty                       10.063051\n",
       "Beverages                     8.297360\n",
       "Choco, Snacks, Sweets         5.770414\n",
       "Dairy, Chilled & Eggs         6.900683\n",
       "Frozen                        7.692615\n",
       "Fruit & Vegetable             5.570590\n",
       "Health                       13.693046\n",
       "Household                     8.855045\n",
       "Kitchen & Dining              3.753100\n",
       "Meat & Seafood               11.947627\n",
       "Mother & Baby                11.869695\n",
       "Party Supplies                4.641950\n",
       "Pet Care                      6.976049\n",
       "Rice & Cooking Essentials     3.507113\n",
       "Wines, Beers & Spirits       13.282456\n",
       "Name: Price, dtype: float64"
      ]
     },
     "execution_count": 15,
     "metadata": {},
     "output_type": "execute_result"
    }
   ],
   "source": [
    "df.groupby(['Category']).Price.mean()"
   ]
  },
  {
   "cell_type": "markdown",
   "metadata": {},
   "source": [
    "__Conclusion__: The highest price is in the \"Health\" category.\n",
    "\n",
    "__Business idea__: Beauty Tech: Invest in beauty technology, such as AI-powered skincare analysis or virtual makeup try-on apps. You could provide these services to consumers, helping them find the right products for their skin type and tone.\n",
    "\n",
    "\n",
    "\n"
   ]
  },
  {
   "cell_type": "markdown",
   "metadata": {},
   "source": [
    "__4: What are the top-selling products in terms of quantity sold or revenue generated?__"
   ]
  },
  {
   "cell_type": "code",
   "execution_count": 25,
   "metadata": {
    "ExecuteTime": {
     "end_time": "2024-08-24T16:41:25.855977Z",
     "start_time": "2024-08-24T16:41:25.841847Z"
    }
   },
   "outputs": [
    {
     "data": {
      "text/plain": [
       "'Bollinger Pink platted moscato rose'"
      ]
     },
     "execution_count": 25,
     "metadata": {},
     "output_type": "execute_result"
    }
   ],
   "source": [
    "df.rename(columns = {'Profit Margin':'Profit_Margin'}, inplace = True)\n",
    "df.groupby('Items').Amount.mean().idxmax()"
   ]
  },
  {
   "cell_type": "markdown",
   "metadata": {},
   "source": [
    "__5: What is the top-selling product category in terms of quantity sold or revenue generated?__"
   ]
  },
  {
   "cell_type": "code",
   "execution_count": 26,
   "metadata": {
    "ExecuteTime": {
     "end_time": "2024-08-24T16:41:58.549501Z",
     "start_time": "2024-08-24T16:41:58.538933Z"
    }
   },
   "outputs": [
    {
     "data": {
      "text/plain": [
       "'Champagne & Spakling Wine'"
      ]
     },
     "execution_count": 26,
     "metadata": {},
     "output_type": "execute_result"
    }
   ],
   "source": [
    "df.groupby('Sub_Category').Amount.mean().idxmax()"
   ]
  },
  {
   "cell_type": "markdown",
   "metadata": {},
   "source": [
    "__Conclusion (4,5)__: One can see that Bollinger Pink platted moscato rose is the product that generstes the highest revenue. Also, one can see that Champagne & Sparkling Wine is the top-selling producct category.\n",
    "\n",
    "__Business ideas__: 1.Wine Subscription Service: Launch a subscription service specializing in premium rosé wines, including Bollinger Pink platted moscato Rosé.\n",
    "\n",
    "2.Wine Tasting Tours: If you're located in a wine-producing region, consider offering wine tasting tours that focus on rosé wines, including a tasting of Bollinger Pink Platted Moscato Rosé. Create unique and immersive experiences by partnering with local wineries for tours and tastings.\n",
    "\n",
    "\n"
   ]
  },
  {
   "cell_type": "markdown",
   "metadata": {},
   "source": [
    "__6: Who buy more in the \"Frozen\" category: men or women?__\n",
    "\n"
   ]
  },
  {
   "cell_type": "code",
   "execution_count": 29,
   "metadata": {
    "ExecuteTime": {
     "end_time": "2024-08-24T16:47:25.698976Z",
     "start_time": "2024-08-24T16:47:25.685990Z"
    }
   },
   "outputs": [
    {
     "name": "stdout",
     "output_type": "stream",
     "text": [
      "Gender\n",
      "Female    5401\n",
      "Male       992\n",
      "Name: count, dtype: int64\n"
     ]
    }
   ],
   "source": [
    "gender_counts = df[df['Category'] == 'Frozen']['Gender'].value_counts()\n",
    "print(gender_counts)"
   ]
  },
  {
   "cell_type": "markdown",
   "metadata": {},
   "source": [
    "__Conclusion__: There less of male customers in the \"Frozen\" category.\n",
    "\n",
    "__Business idea__: Product Placement and Store Layout: Adjust the store layout to prominently display frozen food items that are popular among men. Placing these products in areas that men frequently visit can increase their visibility and encourage more purchases.\n",
    "\n",
    "\n"
   ]
  },
  {
   "cell_type": "markdown",
   "metadata": {},
   "source": [
    "__7: At which category do we have the most expensive purchase?__"
   ]
  },
  {
   "cell_type": "code",
   "execution_count": 47,
   "metadata": {
    "ExecuteTime": {
     "end_time": "2023-09-05T16:51:08.735056Z",
     "start_time": "2023-09-05T16:51:08.716026Z"
    }
   },
   "outputs": [
    {
     "data": {
      "text/plain": [
       "32676    Mother & Baby\n",
       "Name: Category, dtype: object"
      ]
     },
     "execution_count": 47,
     "metadata": {},
     "output_type": "execute_result"
    }
   ],
   "source": [
    "df.groupby('Membership ID').Price.mean().idxmax()\n",
    "df.loc[df['Membership ID'] == 'MIDSG0094'].Category"
   ]
  },
  {
   "cell_type": "markdown",
   "metadata": {},
   "source": [
    "__Conclusion__: We have the most expensive purchase in the category: \"Mother & Baby\".\n",
    "\n",
    "__Business idea__: Baby Shower Planning Services: Offer event planning services for baby showers, gender reveal parties, and other related celebrations. Create memorable experiences for expectant parents and their friends and family.\n",
    "\n"
   ]
  },
  {
   "cell_type": "markdown",
   "metadata": {},
   "source": [
    "__8: At what city customers have the highest average bill?__"
   ]
  },
  {
   "cell_type": "code",
   "execution_count": 76,
   "metadata": {
    "ExecuteTime": {
     "end_time": "2023-09-01T11:03:42.555614Z",
     "start_time": "2023-09-01T11:03:42.495739Z"
    }
   },
   "outputs": [
    {
     "data": {
      "text/plain": [
       "City\n",
       "Bedok           11.054826\n",
       "Jakarta         11.310233\n",
       "Kuala Lumpur    11.262599\n",
       "Manila          10.822900\n",
       "Woodlands       11.732765\n",
       "Name: Amount, dtype: float64"
      ]
     },
     "execution_count": 76,
     "metadata": {},
     "output_type": "execute_result"
    }
   ],
   "source": [
    "df.groupby('City').Amount.mean()"
   ]
  },
  {
   "cell_type": "markdown",
   "metadata": {},
   "source": [
    "__Conclusion__: In Woodlands customers have the highest average bill.\n",
    "\n",
    "__Business idea__: Exclusive Cooking Classes:\n",
    "Organize exclusive cooking classes and workshops that teach customers how to prepare gourmet meals using premium ingredients. Collaborate with renowned chefs or culinary experts to provide a unique and educational experience. Offer classes in-person and online to reach a wider audience.\n",
    "\n"
   ]
  },
  {
   "cell_type": "markdown",
   "metadata": {},
   "source": [
    "__9: At what city people have the lowest level of loyalty card points?__"
   ]
  },
  {
   "cell_type": "code",
   "execution_count": 19,
   "metadata": {
    "ExecuteTime": {
     "end_time": "2024-08-27T14:49:52.401964Z",
     "start_time": "2024-08-27T14:49:51.989586Z"
    }
   },
   "outputs": [
    {
     "data": {
      "text/plain": [
       "<seaborn.axisgrid.FacetGrid at 0x7fbf63af4580>"
      ]
     },
     "execution_count": 19,
     "metadata": {},
     "output_type": "execute_result"
    },
    {
     "data": {
      "image/png": "[encoded data removed]",
      "text/plain": [
       "<Figure size 360x360 with 1 Axes>"
      ]
     },
     "metadata": {
      "needs_background": "light"
     },
     "output_type": "display_data"
    }
   ],
   "source": [
    "plot = sns.catplot(data = df, x=\"City\", y=\"Loyalty Card Points\", kind=\"box\")\n",
    "plot.fig.suptitle(\"Loyalty Card Points by Cities\", y=1.05) \n",
    "plot"
   ]
  },
  {
   "cell_type": "markdown",
   "metadata": {},
   "source": [
    "__Conclusion__: In Bedock people have the lowest level of loyalty card points.\n",
    "\n",
    "__Business idea__: Loyalty Point Boost Program:\n",
    "Create a loyalty point boosting program specifically for Bedeck grocery stores. \n",
    "\n",
    "\n"
   ]
  },
  {
   "cell_type": "markdown",
   "metadata": {},
   "source": [
    "__Let us create a pivot table__"
   ]
  },
  {
   "cell_type": "code",
   "execution_count": 9,
   "metadata": {
    "ExecuteTime": {
     "end_time": "2024-08-15T17:05:31.661181Z",
     "start_time": "2024-08-15T17:05:31.596510Z"
    }
   },
   "outputs": [
    {
     "data": {
      "text/html": [
       "<div>\n",
       "<style scoped>\n",
       "    .dataframe tbody tr th:only-of-type {\n",
       "        vertical-align: middle;\n",
       "    }\n",
       "\n",
       "    .dataframe tbody tr th {\n",
       "        vertical-align: top;\n",
       "    }\n",
       "\n",
       "    .dataframe thead th {\n",
       "        text-align: right;\n",
       "    }\n",
       "</style>\n",
       "<table border=\"1\" class=\"dataframe\">\n",
       "  <thead>\n",
       "    <tr style=\"text-align: right;\">\n",
       "      <th>City</th>\n",
       "      <th>Bedok</th>\n",
       "      <th>Jakarta</th>\n",
       "      <th>Kuala Lumpur</th>\n",
       "      <th>Manila</th>\n",
       "      <th>Woodlands</th>\n",
       "    </tr>\n",
       "    <tr>\n",
       "      <th>Age</th>\n",
       "      <th></th>\n",
       "      <th></th>\n",
       "      <th></th>\n",
       "      <th></th>\n",
       "      <th></th>\n",
       "    </tr>\n",
       "  </thead>\n",
       "  <tbody>\n",
       "    <tr>\n",
       "      <th>15</th>\n",
       "      <td>2784.5174</td>\n",
       "      <td>2793.6930</td>\n",
       "      <td>1979.3798</td>\n",
       "      <td>2684.6992</td>\n",
       "      <td>1231.9019</td>\n",
       "    </tr>\n",
       "    <tr>\n",
       "      <th>16</th>\n",
       "      <td>3723.5775</td>\n",
       "      <td>1839.1363</td>\n",
       "      <td>4214.1807</td>\n",
       "      <td>3890.7314</td>\n",
       "      <td>2529.8478</td>\n",
       "    </tr>\n",
       "    <tr>\n",
       "      <th>17</th>\n",
       "      <td>3601.8660</td>\n",
       "      <td>2530.0170</td>\n",
       "      <td>5495.0694</td>\n",
       "      <td>4463.0577</td>\n",
       "      <td>1619.7760</td>\n",
       "    </tr>\n",
       "    <tr>\n",
       "      <th>18</th>\n",
       "      <td>4770.9461</td>\n",
       "      <td>3918.6245</td>\n",
       "      <td>4049.1765</td>\n",
       "      <td>3696.5842</td>\n",
       "      <td>2151.6184</td>\n",
       "    </tr>\n",
       "    <tr>\n",
       "      <th>19</th>\n",
       "      <td>2830.9589</td>\n",
       "      <td>4447.4399</td>\n",
       "      <td>8208.4761</td>\n",
       "      <td>2224.9030</td>\n",
       "      <td>860.2747</td>\n",
       "    </tr>\n",
       "  </tbody>\n",
       "</table>\n",
       "</div>"
      ],
      "text/plain": [
       "City      Bedok    Jakarta  Kuala Lumpur     Manila  Woodlands\n",
       "Age                                                           \n",
       "15    2784.5174  2793.6930     1979.3798  2684.6992  1231.9019\n",
       "16    3723.5775  1839.1363     4214.1807  3890.7314  2529.8478\n",
       "17    3601.8660  2530.0170     5495.0694  4463.0577  1619.7760\n",
       "18    4770.9461  3918.6245     4049.1765  3696.5842  2151.6184\n",
       "19    2830.9589  4447.4399     8208.4761  2224.9030   860.2747"
      ]
     },
     "execution_count": 9,
     "metadata": {},
     "output_type": "execute_result"
    }
   ],
   "source": [
    "age_pivot = df.pivot_table(index='Age', columns='City', values='Amount',aggfunc = 'sum')\n",
    "age_pivot.head()"
   ]
  },
  {
   "cell_type": "markdown",
   "metadata": {},
   "source": [
    "__10: What is the corelation between age and purchase price for every city?__"
   ]
  },
  {
   "cell_type": "code",
   "execution_count": 16,
   "metadata": {
    "ExecuteTime": {
     "end_time": "2024-08-15T17:10:55.310857Z",
     "start_time": "2024-08-15T17:10:55.049203Z"
    }
   },
   "outputs": [
    {
     "data": {
      "text/plain": [
       "Text(0.5, 1.0, 'Correlation between Age and Purchase Price')"
      ]
     },
     "execution_count": 16,
     "metadata": {},
     "output_type": "execute_result"
    },
    {
     "data": {
      "image/png": "[encoded data removed]",
      "text/plain": [
       "<Figure size 432x288 with 1 Axes>"
      ]
     },
     "metadata": {
      "needs_background": "light"
     },
     "output_type": "display_data"
    }
   ],
   "source": [
    "ap = age_pivot.plot()\n",
    "\n",
    "ap.set_xlabel(\"Age\")  \n",
    "ap.set_ylabel(\"Purchase Price\")  \n",
    "\n",
    "\n",
    "ap.set_title(\"Correlation between Age and Purchase Price\") "
   ]
  },
  {
   "cell_type": "markdown",
   "metadata": {},
   "source": [
    "__Conclusion__: one sees that in Kuala Lumpur people around 20 make the most expensive purchases. That look suspicious and takes needs some additional reserch to be done."
   ]
  },
  {
   "cell_type": "markdown",
   "metadata": {},
   "source": [
    "__11: Is there any correlation between Price and Discount?__"
   ]
  },
  {
   "cell_type": "code",
   "execution_count": 25,
   "metadata": {
    "ExecuteTime": {
     "end_time": "2024-08-27T14:57:29.350574Z",
     "start_time": "2024-08-27T14:57:26.411431Z"
    }
   },
   "outputs": [
    {
     "data": {
      "image/png": "[encoded data removed]",
      "text/plain": [
       "<Figure size 432x288 with 1 Axes>"
      ]
     },
     "metadata": {
      "needs_background": "light"
     },
     "output_type": "display_data"
    }
   ],
   "source": [
    "sns.regplot(\n",
    "    data = df,\n",
    "    x = 'Price', y='DISC', line_kws = {'color': 'red'}\n",
    ");\n",
    "plt.title(\"Correlation between Price and Discount\")\n",
    "plt.show()\n"
   ]
  },
  {
   "cell_type": "markdown",
   "metadata": {},
   "source": [
    "__Conclusion__: There is a direct correlation between Price and Discount. No outliers."
   ]
  },
  {
   "cell_type": "markdown",
   "metadata": {},
   "source": [
    "__Let us create another pivot table__\n"
   ]
  },
  {
   "cell_type": "code",
   "execution_count": 6,
   "metadata": {
    "ExecuteTime": {
     "end_time": "2024-08-27T15:39:48.453911Z",
     "start_time": "2024-08-27T15:39:48.392930Z"
    }
   },
   "outputs": [
    {
     "data": {
      "text/html": [
       "<div>\n",
       "<style scoped>\n",
       "    .dataframe tbody tr th:only-of-type {\n",
       "        vertical-align: middle;\n",
       "    }\n",
       "\n",
       "    .dataframe tbody tr th {\n",
       "        vertical-align: top;\n",
       "    }\n",
       "\n",
       "    .dataframe thead th {\n",
       "        text-align: right;\n",
       "    }\n",
       "</style>\n",
       "<table border=\"1\" class=\"dataframe\">\n",
       "  <thead>\n",
       "    <tr style=\"text-align: right;\">\n",
       "      <th>City</th>\n",
       "      <th>Bedok</th>\n",
       "      <th>Jakarta</th>\n",
       "      <th>Kuala Lumpur</th>\n",
       "      <th>Manila</th>\n",
       "      <th>Woodlands</th>\n",
       "    </tr>\n",
       "    <tr>\n",
       "      <th>Gender</th>\n",
       "      <th></th>\n",
       "      <th></th>\n",
       "      <th></th>\n",
       "      <th></th>\n",
       "      <th></th>\n",
       "    </tr>\n",
       "  </thead>\n",
       "  <tbody>\n",
       "    <tr>\n",
       "      <th>Female</th>\n",
       "      <td>122601.1731</td>\n",
       "      <td>83361.1450</td>\n",
       "      <td>92527.7172</td>\n",
       "      <td>104309.6095</td>\n",
       "      <td>66404.0654</td>\n",
       "    </tr>\n",
       "    <tr>\n",
       "      <th>Male</th>\n",
       "      <td>13063.6490</td>\n",
       "      <td>19652.4567</td>\n",
       "      <td>28691.6373</td>\n",
       "      <td>29677.8889</td>\n",
       "      <td>3100.8349</td>\n",
       "    </tr>\n",
       "  </tbody>\n",
       "</table>\n",
       "</div>"
      ],
      "text/plain": [
       "City          Bedok     Jakarta  Kuala Lumpur       Manila   Woodlands\n",
       "Gender                                                                \n",
       "Female  122601.1731  83361.1450    92527.7172  104309.6095  66404.0654\n",
       "Male     13063.6490  19652.4567    28691.6373   29677.8889   3100.8349"
      ]
     },
     "execution_count": 6,
     "metadata": {},
     "output_type": "execute_result"
    }
   ],
   "source": [
    "gender_pivot = df.pivot_table(index='Gender', columns='City', values='Amount',aggfunc = 'sum')\n",
    "gender_pivot.head()"
   ]
  },
  {
   "cell_type": "markdown",
   "metadata": {
    "ExecuteTime": {
     "end_time": "2024-08-26T15:44:34.707584Z",
     "start_time": "2024-08-26T15:44:34.640357Z"
    }
   },
   "source": [
    "__12: At what city do female customers generate the highest Amount?__"
   ]
  },
  {
   "cell_type": "code",
   "execution_count": 7,
   "metadata": {
    "ExecuteTime": {
     "end_time": "2024-08-27T15:39:51.247945Z",
     "start_time": "2024-08-27T15:39:50.944323Z"
    },
    "scrolled": true
   },
   "outputs": [
    {
     "data": {
      "image/png": "[encoded data removed]",
      "text/plain": [
       "<Figure size 720x432 with 1 Axes>"
      ]
     },
     "metadata": {
      "needs_background": "light"
     },
     "output_type": "display_data"
    }
   ],
   "source": [
    "ax = gender_pivot.plot.bar(figsize=(10,6));\n",
    "ax.set_title(\"The highest Amount generation by cities\")\n",
    "ax.set_ylabel(\"Amount\")\n",
    "plt.show()"
   ]
  },
  {
   "cell_type": "markdown",
   "metadata": {},
   "source": [
    "__Conclusion__: in Bedok female customers generate the highest Amount\n",
    "\n",
    "__Business ideas__: 1.Inventory and Stocking: If female customers in Bedok prefer specific products, the business can optimize its inventory and stocking decisions. It can ensure that the products favored by this demographic are well-stocked and readily available.\n",
    "\n",
    "2.Feedback and Surveys: To gain deeper insights into why female customers in Bedok are spending more, the business can conduct surveys or gather feedback. This information can help refine strategies and offerings."
   ]
  },
  {
   "cell_type": "markdown",
   "metadata": {},
   "source": [
    "__13: What are the average pre-tax checks for each subcategory in the beauty and care category? Let's create a pie chart and review the structure__"
   ]
  },
  {
   "cell_type": "code",
   "execution_count": 7,
   "metadata": {
    "ExecuteTime": {
     "end_time": "2024-08-26T15:55:20.906666Z",
     "start_time": "2024-08-26T15:55:20.884023Z"
    }
   },
   "outputs": [
    {
     "data": {
      "text/plain": [
       "Sub_Category\n",
       "Bath & Body     84351.7905\n",
       "Oral Care      159649.8545\n",
       "skin care      143328.2248\n",
       "Name: Net Bill Amount, dtype: float64"
      ]
     },
     "execution_count": 7,
     "metadata": {},
     "output_type": "execute_result"
    }
   ],
   "source": [
    "beaty_net_bill = df[df['Category'] == 'Beauty'].groupby('Sub_Category')['Net Bill Amount'].sum()\n",
    "beaty_net_bill"
   ]
  },
  {
   "cell_type": "code",
   "execution_count": 9,
   "metadata": {
    "ExecuteTime": {
     "end_time": "2024-08-26T16:23:27.625648Z",
     "start_time": "2024-08-26T16:23:27.441656Z"
    }
   },
   "outputs": [
    {
     "data": {
      "image/png": "[encoded data removed]",
      "text/plain": [
       "<Figure size 432x288 with 1 Axes>"
      ]
     },
     "metadata": {},
     "output_type": "display_data"
    }
   ],
   "source": [
    "plt.pie(beaty_net_bill, autopct = '%1.2f%%') \n",
    "plt.title('Structure of Beauty category goods') \n",
    "plt.legend(labels = ['Bath & Body', 'Oral Care', 'Skin care']);\n"
   ]
  },
  {
   "cell_type": "markdown",
   "metadata": {
    "ExecuteTime": {
     "end_time": "2024-08-26T16:24:38.962568Z",
     "start_time": "2024-08-26T16:24:38.956004Z"
    }
   },
   "source": [
    "__Conclusion__: The oral care goods have the highest pre-tax checks.\n"
   ]
  }
 ],
 "metadata": {
  "kernelspec": {
   "display_name": "Python 3",
   "language": "python",
   "name": "python3"
  },
  "language_info": {
   "codemirror_mode": {
    "name": "ipython",
    "version": 3
   },
   "file_extension": ".py",
   "mimetype": "text/x-python",
   "name": "python",
   "nbconvert_exporter": "python",
   "pygments_lexer": "ipython3",
   "version": "3.8.5"
  },
  "toc": {
   "base_numbering": 1,
   "nav_menu": {},
   "number_sections": true,
   "sideBar": true,
   "skip_h1_title": false,
   "title_cell": "Table of Contents",
   "title_sidebar": "Contents",
   "toc_cell": false,
   "toc_position": {},
   "toc_section_display": true,
   "toc_window_display": false
  }
 },
 "nbformat": 4,
 "nbformat_minor": 5
}
