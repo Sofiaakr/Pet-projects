{
 "cells": [
  {
   "cell_type": "markdown",
   "metadata": {},
   "source": [
    "This analysis examines a dataset containing taxi trips in New York City in 2019. The detailed description could be found on the website[сайті](https://www.nyc.gov/site/tlc/about/tlc-trip-record-data.page).  \n",
    "\n",
    "The dataset contains the following columns:  \n",
    "Here's the English translation of your description:\n",
    "\n",
    "- `pickup` - trip start time  \n",
    "- `dropoff` - trip end time  \n",
    "- `passengers` - number of passengers on the trip  \n",
    "- `distance` - trip distance  \n",
    "- `fare` - base fare for the trip  \n",
    "- `tip` - tip amount  \n",
    "- `tolls` - toll fees (paid by the passenger as well)  \n",
    "- `total` - total fare for the trip  \n",
    "- `color` - color of the car used for the trip  \n",
    "- `payment` - payment method  \n",
    "- `pickup_zone` - zone where the trip started  \n",
    "- `dropoff_zone` - zone where the trip ended  \n",
    "- `pickup_borough` - borough where the trip started  \n",
    "- `dropoff_borough` - borough where the trip ended  "
   ]
  },
  {
   "cell_type": "code",
   "execution_count": 1,
   "metadata": {
    "ExecuteTime": {
     "end_time": "2024-09-11T20:47:58.615140Z",
     "start_time": "2024-09-11T20:47:53.674982Z"
    }
   },
   "outputs": [],
   "source": [
    "import numpy as np\n",
    "import pandas as pd\n",
    "from matplotlib import pyplot as plt\n",
    "import seaborn as sns"
   ]
  },
  {
   "cell_type": "code",
   "execution_count": 31,
   "metadata": {
    "ExecuteTime": {
     "end_time": "2024-09-11T20:47:16.716947Z",
     "start_time": "2024-09-11T20:46:59.168941Z"
    }
   },
   "outputs": [
    {
     "name": "stdout",
     "output_type": "stream",
     "text": [
      "Collecting matplotlib\n",
      "  Downloading matplotlib-3.7.5-cp38-cp38-macosx_10_12_x86_64.whl (7.4 MB)\n",
      "\u001b[K     |████████████████████████████████| 7.4 MB 4.1 MB/s eta 0:00:01\n",
      "\u001b[?25hRequirement already satisfied, skipping upgrade: packaging>=20.0 in ./opt/anaconda3/lib/python3.8/site-packages (from matplotlib) (24.1)\n",
      "Requirement already satisfied, skipping upgrade: cycler>=0.10 in ./opt/anaconda3/lib/python3.8/site-packages (from matplotlib) (0.10.0)\n",
      "Requirement already satisfied, skipping upgrade: pyparsing>=2.3.1 in ./opt/anaconda3/lib/python3.8/site-packages (from matplotlib) (2.4.7)\n",
      "Requirement already satisfied, skipping upgrade: importlib-resources>=3.2.0; python_version < \"3.10\" in ./opt/anaconda3/lib/python3.8/site-packages (from matplotlib) (6.0.1)\n",
      "Collecting fonttools>=4.22.0\n",
      "  Downloading fonttools-4.53.1-py3-none-any.whl (1.1 MB)\n",
      "\u001b[K     |████████████████████████████████| 1.1 MB 37.8 MB/s eta 0:00:01\n",
      "\u001b[?25hRequirement already satisfied, skipping upgrade: kiwisolver>=1.0.1 in ./opt/anaconda3/lib/python3.8/site-packages (from matplotlib) (1.3.0)\n",
      "Requirement already satisfied, skipping upgrade: python-dateutil>=2.7 in ./opt/anaconda3/lib/python3.8/site-packages (from matplotlib) (2.9.0.post0)\n",
      "Requirement already satisfied, skipping upgrade: pillow>=6.2.0 in ./opt/anaconda3/lib/python3.8/site-packages (from matplotlib) (8.0.1)\n",
      "Collecting contourpy>=1.0.1\n",
      "  Downloading contourpy-1.1.1-cp38-cp38-macosx_10_9_x86_64.whl (247 kB)\n",
      "\u001b[K     |████████████████████████████████| 247 kB 33.7 MB/s eta 0:00:01\n",
      "\u001b[?25hRequirement already satisfied, skipping upgrade: numpy<2,>=1.20 in ./opt/anaconda3/lib/python3.8/site-packages (from matplotlib) (1.24.4)\n",
      "Requirement already satisfied, skipping upgrade: six in ./opt/anaconda3/lib/python3.8/site-packages (from cycler>=0.10->matplotlib) (1.15.0)\n",
      "Requirement already satisfied, skipping upgrade: zipp>=3.1.0; python_version < \"3.10\" in ./opt/anaconda3/lib/python3.8/site-packages (from importlib-resources>=3.2.0; python_version < \"3.10\"->matplotlib) (3.4.0)\n",
      "Installing collected packages: fonttools, contourpy, matplotlib\n",
      "  Attempting uninstall: matplotlib\n",
      "    Found existing installation: matplotlib 3.3.2\n",
      "    Uninstalling matplotlib-3.3.2:\n",
      "      Successfully uninstalled matplotlib-3.3.2\n",
      "Successfully installed contourpy-1.1.1 fonttools-4.53.1 matplotlib-3.7.5\n",
      "Note: you may need to restart the kernel to use updated packages.\n"
     ]
    }
   ],
   "source": [
    "pip install --upgrade matplotlib"
   ]
  },
  {
   "cell_type": "markdown",
   "metadata": {},
   "source": [
    "# 1 Preliminary data analysis "
   ]
  },
  {
   "cell_type": "code",
   "execution_count": 2,
   "metadata": {
    "ExecuteTime": {
     "end_time": "2024-09-11T20:48:10.361603Z",
     "start_time": "2024-09-11T20:48:10.300978Z"
    }
   },
   "outputs": [],
   "source": [
    "df_taxi = sns.load_dataset('taxis')"
   ]
  },
  {
   "cell_type": "markdown",
   "metadata": {},
   "source": [
    "__Let us output the first 3 records in the dataset, review the data types and data shape__"
   ]
  },
  {
   "cell_type": "code",
   "execution_count": 3,
   "metadata": {
    "ExecuteTime": {
     "end_time": "2024-09-11T20:48:12.229000Z",
     "start_time": "2024-09-11T20:48:12.183246Z"
    }
   },
   "outputs": [
    {
     "data": {
      "text/html": [
       "<div>\n",
       "<style scoped>\n",
       "    .dataframe tbody tr th:only-of-type {\n",
       "        vertical-align: middle;\n",
       "    }\n",
       "\n",
       "    .dataframe tbody tr th {\n",
       "        vertical-align: top;\n",
       "    }\n",
       "\n",
       "    .dataframe thead th {\n",
       "        text-align: right;\n",
       "    }\n",
       "</style>\n",
       "<table border=\"1\" class=\"dataframe\">\n",
       "  <thead>\n",
       "    <tr style=\"text-align: right;\">\n",
       "      <th></th>\n",
       "      <th>pickup</th>\n",
       "      <th>dropoff</th>\n",
       "      <th>passengers</th>\n",
       "      <th>distance</th>\n",
       "      <th>fare</th>\n",
       "      <th>tip</th>\n",
       "      <th>tolls</th>\n",
       "      <th>total</th>\n",
       "      <th>color</th>\n",
       "      <th>payment</th>\n",
       "      <th>pickup_zone</th>\n",
       "      <th>dropoff_zone</th>\n",
       "      <th>pickup_borough</th>\n",
       "      <th>dropoff_borough</th>\n",
       "    </tr>\n",
       "  </thead>\n",
       "  <tbody>\n",
       "    <tr>\n",
       "      <th>0</th>\n",
       "      <td>2019-03-23 20:21:09</td>\n",
       "      <td>2019-03-23 20:27:24</td>\n",
       "      <td>1</td>\n",
       "      <td>1.60</td>\n",
       "      <td>7.0</td>\n",
       "      <td>2.15</td>\n",
       "      <td>0.0</td>\n",
       "      <td>12.95</td>\n",
       "      <td>yellow</td>\n",
       "      <td>credit card</td>\n",
       "      <td>Lenox Hill West</td>\n",
       "      <td>UN/Turtle Bay South</td>\n",
       "      <td>Manhattan</td>\n",
       "      <td>Manhattan</td>\n",
       "    </tr>\n",
       "    <tr>\n",
       "      <th>1</th>\n",
       "      <td>2019-03-04 16:11:55</td>\n",
       "      <td>2019-03-04 16:19:00</td>\n",
       "      <td>1</td>\n",
       "      <td>0.79</td>\n",
       "      <td>5.0</td>\n",
       "      <td>0.00</td>\n",
       "      <td>0.0</td>\n",
       "      <td>9.30</td>\n",
       "      <td>yellow</td>\n",
       "      <td>cash</td>\n",
       "      <td>Upper West Side South</td>\n",
       "      <td>Upper West Side South</td>\n",
       "      <td>Manhattan</td>\n",
       "      <td>Manhattan</td>\n",
       "    </tr>\n",
       "    <tr>\n",
       "      <th>2</th>\n",
       "      <td>2019-03-27 17:53:01</td>\n",
       "      <td>2019-03-27 18:00:25</td>\n",
       "      <td>1</td>\n",
       "      <td>1.37</td>\n",
       "      <td>7.5</td>\n",
       "      <td>2.36</td>\n",
       "      <td>0.0</td>\n",
       "      <td>14.16</td>\n",
       "      <td>yellow</td>\n",
       "      <td>credit card</td>\n",
       "      <td>Alphabet City</td>\n",
       "      <td>West Village</td>\n",
       "      <td>Manhattan</td>\n",
       "      <td>Manhattan</td>\n",
       "    </tr>\n",
       "  </tbody>\n",
       "</table>\n",
       "</div>"
      ],
      "text/plain": [
       "                pickup              dropoff  passengers  distance  fare   tip  \\\n",
       "0  2019-03-23 20:21:09  2019-03-23 20:27:24           1      1.60   7.0  2.15   \n",
       "1  2019-03-04 16:11:55  2019-03-04 16:19:00           1      0.79   5.0  0.00   \n",
       "2  2019-03-27 17:53:01  2019-03-27 18:00:25           1      1.37   7.5  2.36   \n",
       "\n",
       "   tolls  total   color      payment            pickup_zone  \\\n",
       "0    0.0  12.95  yellow  credit card        Lenox Hill West   \n",
       "1    0.0   9.30  yellow         cash  Upper West Side South   \n",
       "2    0.0  14.16  yellow  credit card          Alphabet City   \n",
       "\n",
       "            dropoff_zone pickup_borough dropoff_borough  \n",
       "0    UN/Turtle Bay South      Manhattan       Manhattan  \n",
       "1  Upper West Side South      Manhattan       Manhattan  \n",
       "2           West Village      Manhattan       Manhattan  "
      ]
     },
     "metadata": {},
     "output_type": "display_data"
    },
    {
     "data": {
      "text/plain": [
       "pickup              object\n",
       "dropoff             object\n",
       "passengers           int64\n",
       "distance           float64\n",
       "fare               float64\n",
       "tip                float64\n",
       "tolls              float64\n",
       "total              float64\n",
       "color               object\n",
       "payment             object\n",
       "pickup_zone         object\n",
       "dropoff_zone        object\n",
       "pickup_borough      object\n",
       "dropoff_borough     object\n",
       "dtype: object"
      ]
     },
     "metadata": {},
     "output_type": "display_data"
    },
    {
     "data": {
      "text/plain": [
       "(6433, 14)"
      ]
     },
     "metadata": {},
     "output_type": "display_data"
    }
   ],
   "source": [
    "display(df_taxi.head(3), df_taxi.dtypes, df_taxi.shape)"
   ]
  },
  {
   "cell_type": "markdown",
   "metadata": {},
   "source": [
    "__Let's check if there are any missing values in this dataset__"
   ]
  },
  {
   "cell_type": "code",
   "execution_count": 4,
   "metadata": {
    "ExecuteTime": {
     "end_time": "2024-09-11T20:48:15.387427Z",
     "start_time": "2024-09-11T20:48:15.371300Z"
    }
   },
   "outputs": [
    {
     "data": {
      "text/plain": [
       "pickup              0\n",
       "dropoff             0\n",
       "passengers          0\n",
       "distance            0\n",
       "fare                0\n",
       "tip                 0\n",
       "tolls               0\n",
       "total               0\n",
       "color               0\n",
       "payment            44\n",
       "pickup_zone        26\n",
       "dropoff_zone       45\n",
       "pickup_borough     26\n",
       "dropoff_borough    45\n",
       "dtype: int64"
      ]
     },
     "execution_count": 4,
     "metadata": {},
     "output_type": "execute_result"
    }
   ],
   "source": [
    "df_taxi.isna().sum()"
   ]
  },
  {
   "cell_type": "markdown",
   "metadata": {
    "ExecuteTime": {
     "end_time": "2022-11-09T10:43:07.843299Z",
     "start_time": "2022-11-09T10:43:07.785393Z"
    }
   },
   "source": [
    "__Let us check why the data is missing. To do this, one displays the rows where the column with the most missing values has missing entries__"
   ]
  },
  {
   "cell_type": "code",
   "execution_count": 5,
   "metadata": {
    "ExecuteTime": {
     "end_time": "2024-09-11T20:48:18.549710Z",
     "start_time": "2024-09-11T20:48:18.501915Z"
    }
   },
   "outputs": [
    {
     "data": {
      "text/html": [
       "<div>\n",
       "<style scoped>\n",
       "    .dataframe tbody tr th:only-of-type {\n",
       "        vertical-align: middle;\n",
       "    }\n",
       "\n",
       "    .dataframe tbody tr th {\n",
       "        vertical-align: top;\n",
       "    }\n",
       "\n",
       "    .dataframe thead th {\n",
       "        text-align: right;\n",
       "    }\n",
       "</style>\n",
       "<table border=\"1\" class=\"dataframe\">\n",
       "  <thead>\n",
       "    <tr style=\"text-align: right;\">\n",
       "      <th></th>\n",
       "      <th>pickup</th>\n",
       "      <th>dropoff</th>\n",
       "      <th>passengers</th>\n",
       "      <th>distance</th>\n",
       "      <th>fare</th>\n",
       "      <th>tip</th>\n",
       "      <th>tolls</th>\n",
       "      <th>total</th>\n",
       "      <th>color</th>\n",
       "      <th>payment</th>\n",
       "      <th>pickup_zone</th>\n",
       "      <th>dropoff_zone</th>\n",
       "      <th>pickup_borough</th>\n",
       "      <th>dropoff_borough</th>\n",
       "    </tr>\n",
       "  </thead>\n",
       "  <tbody>\n",
       "    <tr>\n",
       "      <th>42</th>\n",
       "      <td>2019-03-30 23:59:14</td>\n",
       "      <td>2019-03-30 23:59:17</td>\n",
       "      <td>1</td>\n",
       "      <td>0.00</td>\n",
       "      <td>80.0</td>\n",
       "      <td>20.08</td>\n",
       "      <td>0.00</td>\n",
       "      <td>100.38</td>\n",
       "      <td>yellow</td>\n",
       "      <td>credit card</td>\n",
       "      <td>NaN</td>\n",
       "      <td>NaN</td>\n",
       "      <td>NaN</td>\n",
       "      <td>NaN</td>\n",
       "    </tr>\n",
       "    <tr>\n",
       "      <th>622</th>\n",
       "      <td>2019-03-12 19:52:36</td>\n",
       "      <td>2019-03-12 19:52:55</td>\n",
       "      <td>3</td>\n",
       "      <td>0.00</td>\n",
       "      <td>120.0</td>\n",
       "      <td>33.20</td>\n",
       "      <td>12.50</td>\n",
       "      <td>166.00</td>\n",
       "      <td>yellow</td>\n",
       "      <td>credit card</td>\n",
       "      <td>NaN</td>\n",
       "      <td>NaN</td>\n",
       "      <td>NaN</td>\n",
       "      <td>NaN</td>\n",
       "    </tr>\n",
       "    <tr>\n",
       "      <th>711</th>\n",
       "      <td>2019-03-21 17:39:50</td>\n",
       "      <td>2019-03-21 18:12:54</td>\n",
       "      <td>2</td>\n",
       "      <td>1.74</td>\n",
       "      <td>17.0</td>\n",
       "      <td>4.26</td>\n",
       "      <td>0.00</td>\n",
       "      <td>25.56</td>\n",
       "      <td>yellow</td>\n",
       "      <td>credit card</td>\n",
       "      <td>Midtown East</td>\n",
       "      <td>NaN</td>\n",
       "      <td>Manhattan</td>\n",
       "      <td>NaN</td>\n",
       "    </tr>\n",
       "    <tr>\n",
       "      <th>739</th>\n",
       "      <td>2019-03-14 00:09:17</td>\n",
       "      <td>2019-03-14 00:09:21</td>\n",
       "      <td>1</td>\n",
       "      <td>0.03</td>\n",
       "      <td>2.5</td>\n",
       "      <td>0.00</td>\n",
       "      <td>0.00</td>\n",
       "      <td>3.80</td>\n",
       "      <td>yellow</td>\n",
       "      <td>cash</td>\n",
       "      <td>Upper East Side South</td>\n",
       "      <td>NaN</td>\n",
       "      <td>Manhattan</td>\n",
       "      <td>NaN</td>\n",
       "    </tr>\n",
       "    <tr>\n",
       "      <th>970</th>\n",
       "      <td>2019-03-29 00:02:00</td>\n",
       "      <td>2019-03-29 00:02:05</td>\n",
       "      <td>2</td>\n",
       "      <td>0.00</td>\n",
       "      <td>45.0</td>\n",
       "      <td>5.00</td>\n",
       "      <td>0.00</td>\n",
       "      <td>50.30</td>\n",
       "      <td>yellow</td>\n",
       "      <td>credit card</td>\n",
       "      <td>NaN</td>\n",
       "      <td>NaN</td>\n",
       "      <td>NaN</td>\n",
       "      <td>NaN</td>\n",
       "    </tr>\n",
       "    <tr>\n",
       "      <th>1108</th>\n",
       "      <td>2019-03-10 09:33:13</td>\n",
       "      <td>2019-03-10 09:52:04</td>\n",
       "      <td>1</td>\n",
       "      <td>13.40</td>\n",
       "      <td>52.0</td>\n",
       "      <td>11.70</td>\n",
       "      <td>5.76</td>\n",
       "      <td>70.26</td>\n",
       "      <td>yellow</td>\n",
       "      <td>credit card</td>\n",
       "      <td>NaN</td>\n",
       "      <td>NaN</td>\n",
       "      <td>NaN</td>\n",
       "      <td>NaN</td>\n",
       "    </tr>\n",
       "    <tr>\n",
       "      <th>1112</th>\n",
       "      <td>2019-03-12 19:09:23</td>\n",
       "      <td>2019-03-12 19:20:46</td>\n",
       "      <td>1</td>\n",
       "      <td>0.90</td>\n",
       "      <td>8.5</td>\n",
       "      <td>1.92</td>\n",
       "      <td>0.00</td>\n",
       "      <td>14.72</td>\n",
       "      <td>yellow</td>\n",
       "      <td>credit card</td>\n",
       "      <td>Times Sq/Theatre District</td>\n",
       "      <td>NaN</td>\n",
       "      <td>Manhattan</td>\n",
       "      <td>NaN</td>\n",
       "    </tr>\n",
       "    <tr>\n",
       "      <th>1230</th>\n",
       "      <td>2019-03-29 07:52:46</td>\n",
       "      <td>2019-03-29 08:02:40</td>\n",
       "      <td>1</td>\n",
       "      <td>0.90</td>\n",
       "      <td>5.5</td>\n",
       "      <td>1.76</td>\n",
       "      <td>0.00</td>\n",
       "      <td>10.56</td>\n",
       "      <td>yellow</td>\n",
       "      <td>credit card</td>\n",
       "      <td>Yorkville East</td>\n",
       "      <td>NaN</td>\n",
       "      <td>Manhattan</td>\n",
       "      <td>NaN</td>\n",
       "    </tr>\n",
       "    <tr>\n",
       "      <th>1690</th>\n",
       "      <td>2019-03-22 06:24:14</td>\n",
       "      <td>2019-03-22 06:24:14</td>\n",
       "      <td>1</td>\n",
       "      <td>0.00</td>\n",
       "      <td>72.0</td>\n",
       "      <td>0.00</td>\n",
       "      <td>0.00</td>\n",
       "      <td>72.00</td>\n",
       "      <td>yellow</td>\n",
       "      <td>NaN</td>\n",
       "      <td>East New York</td>\n",
       "      <td>NaN</td>\n",
       "      <td>Brooklyn</td>\n",
       "      <td>NaN</td>\n",
       "    </tr>\n",
       "    <tr>\n",
       "      <th>1787</th>\n",
       "      <td>2019-03-28 06:58:57</td>\n",
       "      <td>2019-03-28 07:18:10</td>\n",
       "      <td>1</td>\n",
       "      <td>6.32</td>\n",
       "      <td>20.5</td>\n",
       "      <td>4.26</td>\n",
       "      <td>0.00</td>\n",
       "      <td>25.56</td>\n",
       "      <td>yellow</td>\n",
       "      <td>credit card</td>\n",
       "      <td>Manhattan Valley</td>\n",
       "      <td>NaN</td>\n",
       "      <td>Manhattan</td>\n",
       "      <td>NaN</td>\n",
       "    </tr>\n",
       "    <tr>\n",
       "      <th>2089</th>\n",
       "      <td>2019-03-12 16:21:28</td>\n",
       "      <td>2019-03-12 16:43:40</td>\n",
       "      <td>1</td>\n",
       "      <td>5.69</td>\n",
       "      <td>21.0</td>\n",
       "      <td>0.00</td>\n",
       "      <td>0.00</td>\n",
       "      <td>22.80</td>\n",
       "      <td>yellow</td>\n",
       "      <td>cash</td>\n",
       "      <td>JFK Airport</td>\n",
       "      <td>NaN</td>\n",
       "      <td>Queens</td>\n",
       "      <td>NaN</td>\n",
       "    </tr>\n",
       "    <tr>\n",
       "      <th>2137</th>\n",
       "      <td>2019-03-08 13:27:32</td>\n",
       "      <td>2019-03-08 13:46:23</td>\n",
       "      <td>1</td>\n",
       "      <td>1.40</td>\n",
       "      <td>12.0</td>\n",
       "      <td>3.05</td>\n",
       "      <td>0.00</td>\n",
       "      <td>18.35</td>\n",
       "      <td>yellow</td>\n",
       "      <td>credit card</td>\n",
       "      <td>NaN</td>\n",
       "      <td>NaN</td>\n",
       "      <td>NaN</td>\n",
       "      <td>NaN</td>\n",
       "    </tr>\n",
       "    <tr>\n",
       "      <th>2180</th>\n",
       "      <td>2019-03-09 15:00:06</td>\n",
       "      <td>2019-03-09 15:50:29</td>\n",
       "      <td>2</td>\n",
       "      <td>14.82</td>\n",
       "      <td>50.5</td>\n",
       "      <td>0.00</td>\n",
       "      <td>2.64</td>\n",
       "      <td>53.94</td>\n",
       "      <td>yellow</td>\n",
       "      <td>credit card</td>\n",
       "      <td>Flatiron</td>\n",
       "      <td>NaN</td>\n",
       "      <td>Manhattan</td>\n",
       "      <td>NaN</td>\n",
       "    </tr>\n",
       "    <tr>\n",
       "      <th>2231</th>\n",
       "      <td>2019-03-11 10:17:31</td>\n",
       "      <td>2019-03-11 11:03:55</td>\n",
       "      <td>1</td>\n",
       "      <td>26.35</td>\n",
       "      <td>130.0</td>\n",
       "      <td>0.00</td>\n",
       "      <td>5.76</td>\n",
       "      <td>136.56</td>\n",
       "      <td>yellow</td>\n",
       "      <td>cash</td>\n",
       "      <td>East Harlem North</td>\n",
       "      <td>NaN</td>\n",
       "      <td>Manhattan</td>\n",
       "      <td>NaN</td>\n",
       "    </tr>\n",
       "    <tr>\n",
       "      <th>2402</th>\n",
       "      <td>2019-03-29 22:29:40</td>\n",
       "      <td>2019-03-29 22:54:28</td>\n",
       "      <td>3</td>\n",
       "      <td>19.20</td>\n",
       "      <td>84.0</td>\n",
       "      <td>0.00</td>\n",
       "      <td>0.00</td>\n",
       "      <td>85.30</td>\n",
       "      <td>yellow</td>\n",
       "      <td>cash</td>\n",
       "      <td>JFK Airport</td>\n",
       "      <td>NaN</td>\n",
       "      <td>Queens</td>\n",
       "      <td>NaN</td>\n",
       "    </tr>\n",
       "    <tr>\n",
       "      <th>2571</th>\n",
       "      <td>2019-03-15 04:07:20</td>\n",
       "      <td>2019-03-15 04:24:36</td>\n",
       "      <td>1</td>\n",
       "      <td>12.60</td>\n",
       "      <td>51.5</td>\n",
       "      <td>17.10</td>\n",
       "      <td>16.26</td>\n",
       "      <td>85.66</td>\n",
       "      <td>yellow</td>\n",
       "      <td>credit card</td>\n",
       "      <td>Flatiron</td>\n",
       "      <td>NaN</td>\n",
       "      <td>Manhattan</td>\n",
       "      <td>NaN</td>\n",
       "    </tr>\n",
       "    <tr>\n",
       "      <th>2742</th>\n",
       "      <td>2019-03-23 06:20:27</td>\n",
       "      <td>2019-03-23 06:20:59</td>\n",
       "      <td>1</td>\n",
       "      <td>0.00</td>\n",
       "      <td>55.0</td>\n",
       "      <td>0.00</td>\n",
       "      <td>0.00</td>\n",
       "      <td>55.80</td>\n",
       "      <td>yellow</td>\n",
       "      <td>credit card</td>\n",
       "      <td>NaN</td>\n",
       "      <td>NaN</td>\n",
       "      <td>NaN</td>\n",
       "      <td>NaN</td>\n",
       "    </tr>\n",
       "    <tr>\n",
       "      <th>2905</th>\n",
       "      <td>2019-03-18 16:53:21</td>\n",
       "      <td>2019-03-18 17:41:48</td>\n",
       "      <td>1</td>\n",
       "      <td>24.57</td>\n",
       "      <td>78.0</td>\n",
       "      <td>0.00</td>\n",
       "      <td>5.76</td>\n",
       "      <td>85.56</td>\n",
       "      <td>yellow</td>\n",
       "      <td>cash</td>\n",
       "      <td>JFK Airport</td>\n",
       "      <td>NaN</td>\n",
       "      <td>Queens</td>\n",
       "      <td>NaN</td>\n",
       "    </tr>\n",
       "    <tr>\n",
       "      <th>3085</th>\n",
       "      <td>2019-03-24 15:43:02</td>\n",
       "      <td>2019-03-24 16:02:57</td>\n",
       "      <td>1</td>\n",
       "      <td>3.20</td>\n",
       "      <td>14.5</td>\n",
       "      <td>0.00</td>\n",
       "      <td>0.00</td>\n",
       "      <td>15.30</td>\n",
       "      <td>yellow</td>\n",
       "      <td>cash</td>\n",
       "      <td>NaN</td>\n",
       "      <td>NaN</td>\n",
       "      <td>NaN</td>\n",
       "      <td>NaN</td>\n",
       "    </tr>\n",
       "    <tr>\n",
       "      <th>3241</th>\n",
       "      <td>2019-03-24 17:19:27</td>\n",
       "      <td>2019-03-24 17:19:29</td>\n",
       "      <td>1</td>\n",
       "      <td>0.34</td>\n",
       "      <td>65.0</td>\n",
       "      <td>13.06</td>\n",
       "      <td>0.00</td>\n",
       "      <td>78.36</td>\n",
       "      <td>yellow</td>\n",
       "      <td>credit card</td>\n",
       "      <td>Kew Gardens</td>\n",
       "      <td>NaN</td>\n",
       "      <td>Queens</td>\n",
       "      <td>NaN</td>\n",
       "    </tr>\n",
       "    <tr>\n",
       "      <th>3259</th>\n",
       "      <td>2019-03-30 00:39:09</td>\n",
       "      <td>2019-03-30 00:43:34</td>\n",
       "      <td>1</td>\n",
       "      <td>0.84</td>\n",
       "      <td>5.0</td>\n",
       "      <td>1.70</td>\n",
       "      <td>0.00</td>\n",
       "      <td>10.50</td>\n",
       "      <td>yellow</td>\n",
       "      <td>credit card</td>\n",
       "      <td>NaN</td>\n",
       "      <td>NaN</td>\n",
       "      <td>NaN</td>\n",
       "      <td>NaN</td>\n",
       "    </tr>\n",
       "    <tr>\n",
       "      <th>3500</th>\n",
       "      <td>2019-03-11 17:18:03</td>\n",
       "      <td>2019-03-11 18:27:48</td>\n",
       "      <td>1</td>\n",
       "      <td>24.63</td>\n",
       "      <td>87.5</td>\n",
       "      <td>17.86</td>\n",
       "      <td>0.00</td>\n",
       "      <td>107.16</td>\n",
       "      <td>yellow</td>\n",
       "      <td>credit card</td>\n",
       "      <td>LaGuardia Airport</td>\n",
       "      <td>NaN</td>\n",
       "      <td>Queens</td>\n",
       "      <td>NaN</td>\n",
       "    </tr>\n",
       "    <tr>\n",
       "      <th>3644</th>\n",
       "      <td>2019-03-19 23:30:50</td>\n",
       "      <td>2019-03-19 23:32:33</td>\n",
       "      <td>2</td>\n",
       "      <td>0.00</td>\n",
       "      <td>103.0</td>\n",
       "      <td>20.65</td>\n",
       "      <td>0.00</td>\n",
       "      <td>123.95</td>\n",
       "      <td>yellow</td>\n",
       "      <td>credit card</td>\n",
       "      <td>NaN</td>\n",
       "      <td>NaN</td>\n",
       "      <td>NaN</td>\n",
       "      <td>NaN</td>\n",
       "    </tr>\n",
       "    <tr>\n",
       "      <th>3661</th>\n",
       "      <td>2019-03-04 21:24:54</td>\n",
       "      <td>2019-03-04 21:55:07</td>\n",
       "      <td>1</td>\n",
       "      <td>21.30</td>\n",
       "      <td>79.5</td>\n",
       "      <td>0.00</td>\n",
       "      <td>0.00</td>\n",
       "      <td>80.80</td>\n",
       "      <td>yellow</td>\n",
       "      <td>cash</td>\n",
       "      <td>JFK Airport</td>\n",
       "      <td>NaN</td>\n",
       "      <td>Queens</td>\n",
       "      <td>NaN</td>\n",
       "    </tr>\n",
       "    <tr>\n",
       "      <th>3889</th>\n",
       "      <td>2019-03-30 06:42:55</td>\n",
       "      <td>2019-03-30 06:43:00</td>\n",
       "      <td>1</td>\n",
       "      <td>0.00</td>\n",
       "      <td>2.5</td>\n",
       "      <td>0.00</td>\n",
       "      <td>0.00</td>\n",
       "      <td>3.30</td>\n",
       "      <td>yellow</td>\n",
       "      <td>cash</td>\n",
       "      <td>NaN</td>\n",
       "      <td>NaN</td>\n",
       "      <td>NaN</td>\n",
       "      <td>NaN</td>\n",
       "    </tr>\n",
       "    <tr>\n",
       "      <th>4050</th>\n",
       "      <td>2019-03-13 14:05:19</td>\n",
       "      <td>2019-03-13 15:01:16</td>\n",
       "      <td>6</td>\n",
       "      <td>33.76</td>\n",
       "      <td>143.5</td>\n",
       "      <td>0.00</td>\n",
       "      <td>0.00</td>\n",
       "      <td>144.30</td>\n",
       "      <td>yellow</td>\n",
       "      <td>cash</td>\n",
       "      <td>LaGuardia Airport</td>\n",
       "      <td>NaN</td>\n",
       "      <td>Queens</td>\n",
       "      <td>NaN</td>\n",
       "    </tr>\n",
       "    <tr>\n",
       "      <th>4118</th>\n",
       "      <td>2019-03-15 14:01:54</td>\n",
       "      <td>2019-03-15 14:01:59</td>\n",
       "      <td>1</td>\n",
       "      <td>0.00</td>\n",
       "      <td>25.0</td>\n",
       "      <td>5.06</td>\n",
       "      <td>0.00</td>\n",
       "      <td>30.36</td>\n",
       "      <td>yellow</td>\n",
       "      <td>credit card</td>\n",
       "      <td>NaN</td>\n",
       "      <td>NaN</td>\n",
       "      <td>NaN</td>\n",
       "      <td>NaN</td>\n",
       "    </tr>\n",
       "    <tr>\n",
       "      <th>4127</th>\n",
       "      <td>2019-03-01 05:18:21</td>\n",
       "      <td>2019-03-01 05:18:30</td>\n",
       "      <td>2</td>\n",
       "      <td>0.04</td>\n",
       "      <td>2.5</td>\n",
       "      <td>0.00</td>\n",
       "      <td>0.00</td>\n",
       "      <td>3.80</td>\n",
       "      <td>yellow</td>\n",
       "      <td>cash</td>\n",
       "      <td>NaN</td>\n",
       "      <td>NaN</td>\n",
       "      <td>NaN</td>\n",
       "      <td>NaN</td>\n",
       "    </tr>\n",
       "    <tr>\n",
       "      <th>4219</th>\n",
       "      <td>2019-03-08 20:07:54</td>\n",
       "      <td>2019-03-08 21:10:00</td>\n",
       "      <td>1</td>\n",
       "      <td>36.66</td>\n",
       "      <td>96.5</td>\n",
       "      <td>10.00</td>\n",
       "      <td>5.76</td>\n",
       "      <td>113.56</td>\n",
       "      <td>yellow</td>\n",
       "      <td>credit card</td>\n",
       "      <td>JFK Airport</td>\n",
       "      <td>NaN</td>\n",
       "      <td>Queens</td>\n",
       "      <td>NaN</td>\n",
       "    </tr>\n",
       "    <tr>\n",
       "      <th>4281</th>\n",
       "      <td>2019-03-18 23:29:49</td>\n",
       "      <td>2019-03-18 23:38:00</td>\n",
       "      <td>1</td>\n",
       "      <td>2.10</td>\n",
       "      <td>9.0</td>\n",
       "      <td>2.06</td>\n",
       "      <td>0.00</td>\n",
       "      <td>12.36</td>\n",
       "      <td>yellow</td>\n",
       "      <td>credit card</td>\n",
       "      <td>NaN</td>\n",
       "      <td>NaN</td>\n",
       "      <td>NaN</td>\n",
       "      <td>NaN</td>\n",
       "    </tr>\n",
       "    <tr>\n",
       "      <th>4414</th>\n",
       "      <td>2019-03-29 20:42:47</td>\n",
       "      <td>2019-03-29 21:03:50</td>\n",
       "      <td>1</td>\n",
       "      <td>4.20</td>\n",
       "      <td>17.0</td>\n",
       "      <td>4.80</td>\n",
       "      <td>5.76</td>\n",
       "      <td>28.86</td>\n",
       "      <td>yellow</td>\n",
       "      <td>credit card</td>\n",
       "      <td>NaN</td>\n",
       "      <td>NaN</td>\n",
       "      <td>NaN</td>\n",
       "      <td>NaN</td>\n",
       "    </tr>\n",
       "    <tr>\n",
       "      <th>4466</th>\n",
       "      <td>2019-03-24 03:17:59</td>\n",
       "      <td>2019-03-24 03:52:41</td>\n",
       "      <td>1</td>\n",
       "      <td>14.80</td>\n",
       "      <td>43.5</td>\n",
       "      <td>0.00</td>\n",
       "      <td>0.00</td>\n",
       "      <td>47.30</td>\n",
       "      <td>yellow</td>\n",
       "      <td>cash</td>\n",
       "      <td>Midtown Center</td>\n",
       "      <td>NaN</td>\n",
       "      <td>Manhattan</td>\n",
       "      <td>NaN</td>\n",
       "    </tr>\n",
       "    <tr>\n",
       "      <th>4772</th>\n",
       "      <td>2019-03-21 19:51:13</td>\n",
       "      <td>2019-03-21 19:57:03</td>\n",
       "      <td>1</td>\n",
       "      <td>0.72</td>\n",
       "      <td>5.5</td>\n",
       "      <td>1.46</td>\n",
       "      <td>0.00</td>\n",
       "      <td>8.76</td>\n",
       "      <td>yellow</td>\n",
       "      <td>credit card</td>\n",
       "      <td>NaN</td>\n",
       "      <td>NaN</td>\n",
       "      <td>NaN</td>\n",
       "      <td>NaN</td>\n",
       "    </tr>\n",
       "    <tr>\n",
       "      <th>4815</th>\n",
       "      <td>2019-03-08 11:25:08</td>\n",
       "      <td>2019-03-08 11:50:30</td>\n",
       "      <td>3</td>\n",
       "      <td>10.36</td>\n",
       "      <td>100.0</td>\n",
       "      <td>20.56</td>\n",
       "      <td>0.00</td>\n",
       "      <td>123.36</td>\n",
       "      <td>yellow</td>\n",
       "      <td>credit card</td>\n",
       "      <td>TriBeCa/Civic Center</td>\n",
       "      <td>NaN</td>\n",
       "      <td>Manhattan</td>\n",
       "      <td>NaN</td>\n",
       "    </tr>\n",
       "    <tr>\n",
       "      <th>4941</th>\n",
       "      <td>2019-03-01 08:12:28</td>\n",
       "      <td>2019-03-01 08:17:19</td>\n",
       "      <td>1</td>\n",
       "      <td>0.83</td>\n",
       "      <td>5.0</td>\n",
       "      <td>2.50</td>\n",
       "      <td>0.00</td>\n",
       "      <td>10.80</td>\n",
       "      <td>yellow</td>\n",
       "      <td>credit card</td>\n",
       "      <td>NaN</td>\n",
       "      <td>NaN</td>\n",
       "      <td>NaN</td>\n",
       "      <td>NaN</td>\n",
       "    </tr>\n",
       "    <tr>\n",
       "      <th>5263</th>\n",
       "      <td>2019-03-09 20:37:53</td>\n",
       "      <td>2019-03-09 21:07:20</td>\n",
       "      <td>1</td>\n",
       "      <td>4.99</td>\n",
       "      <td>22.0</td>\n",
       "      <td>5.16</td>\n",
       "      <td>0.00</td>\n",
       "      <td>30.96</td>\n",
       "      <td>yellow</td>\n",
       "      <td>credit card</td>\n",
       "      <td>NaN</td>\n",
       "      <td>NaN</td>\n",
       "      <td>NaN</td>\n",
       "      <td>NaN</td>\n",
       "    </tr>\n",
       "    <tr>\n",
       "      <th>5493</th>\n",
       "      <td>2019-03-06 12:14:00</td>\n",
       "      <td>2019-03-06 12:14:00</td>\n",
       "      <td>1</td>\n",
       "      <td>0.00</td>\n",
       "      <td>10.0</td>\n",
       "      <td>0.00</td>\n",
       "      <td>0.00</td>\n",
       "      <td>10.00</td>\n",
       "      <td>green</td>\n",
       "      <td>credit card</td>\n",
       "      <td>NaN</td>\n",
       "      <td>NaN</td>\n",
       "      <td>NaN</td>\n",
       "      <td>NaN</td>\n",
       "    </tr>\n",
       "    <tr>\n",
       "      <th>5612</th>\n",
       "      <td>2019-03-10 00:19:00</td>\n",
       "      <td>2019-03-10 00:33:23</td>\n",
       "      <td>1</td>\n",
       "      <td>2.53</td>\n",
       "      <td>11.0</td>\n",
       "      <td>0.00</td>\n",
       "      <td>0.00</td>\n",
       "      <td>12.30</td>\n",
       "      <td>green</td>\n",
       "      <td>cash</td>\n",
       "      <td>Jackson Heights</td>\n",
       "      <td>NaN</td>\n",
       "      <td>Queens</td>\n",
       "      <td>NaN</td>\n",
       "    </tr>\n",
       "    <tr>\n",
       "      <th>5624</th>\n",
       "      <td>2019-03-11 14:04:50</td>\n",
       "      <td>2019-03-11 14:04:50</td>\n",
       "      <td>1</td>\n",
       "      <td>0.00</td>\n",
       "      <td>2.5</td>\n",
       "      <td>0.00</td>\n",
       "      <td>0.00</td>\n",
       "      <td>3.30</td>\n",
       "      <td>green</td>\n",
       "      <td>cash</td>\n",
       "      <td>NaN</td>\n",
       "      <td>NaN</td>\n",
       "      <td>NaN</td>\n",
       "      <td>NaN</td>\n",
       "    </tr>\n",
       "    <tr>\n",
       "      <th>5638</th>\n",
       "      <td>2019-03-13 12:22:00</td>\n",
       "      <td>2019-03-13 12:22:00</td>\n",
       "      <td>1</td>\n",
       "      <td>0.00</td>\n",
       "      <td>10.0</td>\n",
       "      <td>0.00</td>\n",
       "      <td>0.00</td>\n",
       "      <td>10.00</td>\n",
       "      <td>green</td>\n",
       "      <td>credit card</td>\n",
       "      <td>NaN</td>\n",
       "      <td>NaN</td>\n",
       "      <td>NaN</td>\n",
       "      <td>NaN</td>\n",
       "    </tr>\n",
       "    <tr>\n",
       "      <th>5648</th>\n",
       "      <td>2019-03-19 14:21:35</td>\n",
       "      <td>2019-03-19 15:51:28</td>\n",
       "      <td>2</td>\n",
       "      <td>33.46</td>\n",
       "      <td>150.0</td>\n",
       "      <td>0.00</td>\n",
       "      <td>18.90</td>\n",
       "      <td>169.70</td>\n",
       "      <td>green</td>\n",
       "      <td>cash</td>\n",
       "      <td>East Flushing</td>\n",
       "      <td>NaN</td>\n",
       "      <td>Queens</td>\n",
       "      <td>NaN</td>\n",
       "    </tr>\n",
       "    <tr>\n",
       "      <th>6083</th>\n",
       "      <td>2019-03-19 15:34:00</td>\n",
       "      <td>2019-03-19 15:34:00</td>\n",
       "      <td>1</td>\n",
       "      <td>0.00</td>\n",
       "      <td>5.0</td>\n",
       "      <td>0.00</td>\n",
       "      <td>0.00</td>\n",
       "      <td>5.00</td>\n",
       "      <td>green</td>\n",
       "      <td>credit card</td>\n",
       "      <td>NaN</td>\n",
       "      <td>NaN</td>\n",
       "      <td>NaN</td>\n",
       "      <td>NaN</td>\n",
       "    </tr>\n",
       "    <tr>\n",
       "      <th>6118</th>\n",
       "      <td>2019-03-30 00:49:48</td>\n",
       "      <td>2019-03-30 00:49:56</td>\n",
       "      <td>1</td>\n",
       "      <td>0.00</td>\n",
       "      <td>25.0</td>\n",
       "      <td>0.00</td>\n",
       "      <td>0.00</td>\n",
       "      <td>25.50</td>\n",
       "      <td>green</td>\n",
       "      <td>credit card</td>\n",
       "      <td>Prospect Heights</td>\n",
       "      <td>NaN</td>\n",
       "      <td>Brooklyn</td>\n",
       "      <td>NaN</td>\n",
       "    </tr>\n",
       "    <tr>\n",
       "      <th>6314</th>\n",
       "      <td>2019-03-28 22:36:04</td>\n",
       "      <td>2019-03-28 22:36:07</td>\n",
       "      <td>1</td>\n",
       "      <td>0.00</td>\n",
       "      <td>25.0</td>\n",
       "      <td>0.00</td>\n",
       "      <td>0.00</td>\n",
       "      <td>25.00</td>\n",
       "      <td>green</td>\n",
       "      <td>cash</td>\n",
       "      <td>Jamaica</td>\n",
       "      <td>NaN</td>\n",
       "      <td>Queens</td>\n",
       "      <td>NaN</td>\n",
       "    </tr>\n",
       "    <tr>\n",
       "      <th>6356</th>\n",
       "      <td>2019-03-01 16:58:23</td>\n",
       "      <td>2019-03-01 16:58:23</td>\n",
       "      <td>1</td>\n",
       "      <td>0.00</td>\n",
       "      <td>3.0</td>\n",
       "      <td>0.00</td>\n",
       "      <td>0.00</td>\n",
       "      <td>4.80</td>\n",
       "      <td>green</td>\n",
       "      <td>cash</td>\n",
       "      <td>Stuyvesant Heights</td>\n",
       "      <td>NaN</td>\n",
       "      <td>Brooklyn</td>\n",
       "      <td>NaN</td>\n",
       "    </tr>\n",
       "  </tbody>\n",
       "</table>\n",
       "</div>"
      ],
      "text/plain": [
       "                   pickup              dropoff  passengers  distance   fare  \\\n",
       "42    2019-03-30 23:59:14  2019-03-30 23:59:17           1      0.00   80.0   \n",
       "622   2019-03-12 19:52:36  2019-03-12 19:52:55           3      0.00  120.0   \n",
       "711   2019-03-21 17:39:50  2019-03-21 18:12:54           2      1.74   17.0   \n",
       "739   2019-03-14 00:09:17  2019-03-14 00:09:21           1      0.03    2.5   \n",
       "970   2019-03-29 00:02:00  2019-03-29 00:02:05           2      0.00   45.0   \n",
       "1108  2019-03-10 09:33:13  2019-03-10 09:52:04           1     13.40   52.0   \n",
       "1112  2019-03-12 19:09:23  2019-03-12 19:20:46           1      0.90    8.5   \n",
       "1230  2019-03-29 07:52:46  2019-03-29 08:02:40           1      0.90    5.5   \n",
       "1690  2019-03-22 06:24:14  2019-03-22 06:24:14           1      0.00   72.0   \n",
       "1787  2019-03-28 06:58:57  2019-03-28 07:18:10           1      6.32   20.5   \n",
       "2089  2019-03-12 16:21:28  2019-03-12 16:43:40           1      5.69   21.0   \n",
       "2137  2019-03-08 13:27:32  2019-03-08 13:46:23           1      1.40   12.0   \n",
       "2180  2019-03-09 15:00:06  2019-03-09 15:50:29           2     14.82   50.5   \n",
       "2231  2019-03-11 10:17:31  2019-03-11 11:03:55           1     26.35  130.0   \n",
       "2402  2019-03-29 22:29:40  2019-03-29 22:54:28           3     19.20   84.0   \n",
       "2571  2019-03-15 04:07:20  2019-03-15 04:24:36           1     12.60   51.5   \n",
       "2742  2019-03-23 06:20:27  2019-03-23 06:20:59           1      0.00   55.0   \n",
       "2905  2019-03-18 16:53:21  2019-03-18 17:41:48           1     24.57   78.0   \n",
       "3085  2019-03-24 15:43:02  2019-03-24 16:02:57           1      3.20   14.5   \n",
       "3241  2019-03-24 17:19:27  2019-03-24 17:19:29           1      0.34   65.0   \n",
       "3259  2019-03-30 00:39:09  2019-03-30 00:43:34           1      0.84    5.0   \n",
       "3500  2019-03-11 17:18:03  2019-03-11 18:27:48           1     24.63   87.5   \n",
       "3644  2019-03-19 23:30:50  2019-03-19 23:32:33           2      0.00  103.0   \n",
       "3661  2019-03-04 21:24:54  2019-03-04 21:55:07           1     21.30   79.5   \n",
       "3889  2019-03-30 06:42:55  2019-03-30 06:43:00           1      0.00    2.5   \n",
       "4050  2019-03-13 14:05:19  2019-03-13 15:01:16           6     33.76  143.5   \n",
       "4118  2019-03-15 14:01:54  2019-03-15 14:01:59           1      0.00   25.0   \n",
       "4127  2019-03-01 05:18:21  2019-03-01 05:18:30           2      0.04    2.5   \n",
       "4219  2019-03-08 20:07:54  2019-03-08 21:10:00           1     36.66   96.5   \n",
       "4281  2019-03-18 23:29:49  2019-03-18 23:38:00           1      2.10    9.0   \n",
       "4414  2019-03-29 20:42:47  2019-03-29 21:03:50           1      4.20   17.0   \n",
       "4466  2019-03-24 03:17:59  2019-03-24 03:52:41           1     14.80   43.5   \n",
       "4772  2019-03-21 19:51:13  2019-03-21 19:57:03           1      0.72    5.5   \n",
       "4815  2019-03-08 11:25:08  2019-03-08 11:50:30           3     10.36  100.0   \n",
       "4941  2019-03-01 08:12:28  2019-03-01 08:17:19           1      0.83    5.0   \n",
       "5263  2019-03-09 20:37:53  2019-03-09 21:07:20           1      4.99   22.0   \n",
       "5493  2019-03-06 12:14:00  2019-03-06 12:14:00           1      0.00   10.0   \n",
       "5612  2019-03-10 00:19:00  2019-03-10 00:33:23           1      2.53   11.0   \n",
       "5624  2019-03-11 14:04:50  2019-03-11 14:04:50           1      0.00    2.5   \n",
       "5638  2019-03-13 12:22:00  2019-03-13 12:22:00           1      0.00   10.0   \n",
       "5648  2019-03-19 14:21:35  2019-03-19 15:51:28           2     33.46  150.0   \n",
       "6083  2019-03-19 15:34:00  2019-03-19 15:34:00           1      0.00    5.0   \n",
       "6118  2019-03-30 00:49:48  2019-03-30 00:49:56           1      0.00   25.0   \n",
       "6314  2019-03-28 22:36:04  2019-03-28 22:36:07           1      0.00   25.0   \n",
       "6356  2019-03-01 16:58:23  2019-03-01 16:58:23           1      0.00    3.0   \n",
       "\n",
       "        tip  tolls   total   color      payment                pickup_zone  \\\n",
       "42    20.08   0.00  100.38  yellow  credit card                        NaN   \n",
       "622   33.20  12.50  166.00  yellow  credit card                        NaN   \n",
       "711    4.26   0.00   25.56  yellow  credit card               Midtown East   \n",
       "739    0.00   0.00    3.80  yellow         cash      Upper East Side South   \n",
       "970    5.00   0.00   50.30  yellow  credit card                        NaN   \n",
       "1108  11.70   5.76   70.26  yellow  credit card                        NaN   \n",
       "1112   1.92   0.00   14.72  yellow  credit card  Times Sq/Theatre District   \n",
       "1230   1.76   0.00   10.56  yellow  credit card             Yorkville East   \n",
       "1690   0.00   0.00   72.00  yellow          NaN              East New York   \n",
       "1787   4.26   0.00   25.56  yellow  credit card           Manhattan Valley   \n",
       "2089   0.00   0.00   22.80  yellow         cash                JFK Airport   \n",
       "2137   3.05   0.00   18.35  yellow  credit card                        NaN   \n",
       "2180   0.00   2.64   53.94  yellow  credit card                   Flatiron   \n",
       "2231   0.00   5.76  136.56  yellow         cash          East Harlem North   \n",
       "2402   0.00   0.00   85.30  yellow         cash                JFK Airport   \n",
       "2571  17.10  16.26   85.66  yellow  credit card                   Flatiron   \n",
       "2742   0.00   0.00   55.80  yellow  credit card                        NaN   \n",
       "2905   0.00   5.76   85.56  yellow         cash                JFK Airport   \n",
       "3085   0.00   0.00   15.30  yellow         cash                        NaN   \n",
       "3241  13.06   0.00   78.36  yellow  credit card                Kew Gardens   \n",
       "3259   1.70   0.00   10.50  yellow  credit card                        NaN   \n",
       "3500  17.86   0.00  107.16  yellow  credit card          LaGuardia Airport   \n",
       "3644  20.65   0.00  123.95  yellow  credit card                        NaN   \n",
       "3661   0.00   0.00   80.80  yellow         cash                JFK Airport   \n",
       "3889   0.00   0.00    3.30  yellow         cash                        NaN   \n",
       "4050   0.00   0.00  144.30  yellow         cash          LaGuardia Airport   \n",
       "4118   5.06   0.00   30.36  yellow  credit card                        NaN   \n",
       "4127   0.00   0.00    3.80  yellow         cash                        NaN   \n",
       "4219  10.00   5.76  113.56  yellow  credit card                JFK Airport   \n",
       "4281   2.06   0.00   12.36  yellow  credit card                        NaN   \n",
       "4414   4.80   5.76   28.86  yellow  credit card                        NaN   \n",
       "4466   0.00   0.00   47.30  yellow         cash             Midtown Center   \n",
       "4772   1.46   0.00    8.76  yellow  credit card                        NaN   \n",
       "4815  20.56   0.00  123.36  yellow  credit card       TriBeCa/Civic Center   \n",
       "4941   2.50   0.00   10.80  yellow  credit card                        NaN   \n",
       "5263   5.16   0.00   30.96  yellow  credit card                        NaN   \n",
       "5493   0.00   0.00   10.00   green  credit card                        NaN   \n",
       "5612   0.00   0.00   12.30   green         cash            Jackson Heights   \n",
       "5624   0.00   0.00    3.30   green         cash                        NaN   \n",
       "5638   0.00   0.00   10.00   green  credit card                        NaN   \n",
       "5648   0.00  18.90  169.70   green         cash              East Flushing   \n",
       "6083   0.00   0.00    5.00   green  credit card                        NaN   \n",
       "6118   0.00   0.00   25.50   green  credit card           Prospect Heights   \n",
       "6314   0.00   0.00   25.00   green         cash                    Jamaica   \n",
       "6356   0.00   0.00    4.80   green         cash         Stuyvesant Heights   \n",
       "\n",
       "     dropoff_zone pickup_borough dropoff_borough  \n",
       "42            NaN            NaN             NaN  \n",
       "622           NaN            NaN             NaN  \n",
       "711           NaN      Manhattan             NaN  \n",
       "739           NaN      Manhattan             NaN  \n",
       "970           NaN            NaN             NaN  \n",
       "1108          NaN            NaN             NaN  \n",
       "1112          NaN      Manhattan             NaN  \n",
       "1230          NaN      Manhattan             NaN  \n",
       "1690          NaN       Brooklyn             NaN  \n",
       "1787          NaN      Manhattan             NaN  \n",
       "2089          NaN         Queens             NaN  \n",
       "2137          NaN            NaN             NaN  \n",
       "2180          NaN      Manhattan             NaN  \n",
       "2231          NaN      Manhattan             NaN  \n",
       "2402          NaN         Queens             NaN  \n",
       "2571          NaN      Manhattan             NaN  \n",
       "2742          NaN            NaN             NaN  \n",
       "2905          NaN         Queens             NaN  \n",
       "3085          NaN            NaN             NaN  \n",
       "3241          NaN         Queens             NaN  \n",
       "3259          NaN            NaN             NaN  \n",
       "3500          NaN         Queens             NaN  \n",
       "3644          NaN            NaN             NaN  \n",
       "3661          NaN         Queens             NaN  \n",
       "3889          NaN            NaN             NaN  \n",
       "4050          NaN         Queens             NaN  \n",
       "4118          NaN            NaN             NaN  \n",
       "4127          NaN            NaN             NaN  \n",
       "4219          NaN         Queens             NaN  \n",
       "4281          NaN            NaN             NaN  \n",
       "4414          NaN            NaN             NaN  \n",
       "4466          NaN      Manhattan             NaN  \n",
       "4772          NaN            NaN             NaN  \n",
       "4815          NaN      Manhattan             NaN  \n",
       "4941          NaN            NaN             NaN  \n",
       "5263          NaN            NaN             NaN  \n",
       "5493          NaN            NaN             NaN  \n",
       "5612          NaN         Queens             NaN  \n",
       "5624          NaN            NaN             NaN  \n",
       "5638          NaN            NaN             NaN  \n",
       "5648          NaN         Queens             NaN  \n",
       "6083          NaN            NaN             NaN  \n",
       "6118          NaN       Brooklyn             NaN  \n",
       "6314          NaN         Queens             NaN  \n",
       "6356          NaN       Brooklyn             NaN  "
      ]
     },
     "execution_count": 5,
     "metadata": {},
     "output_type": "execute_result"
    }
   ],
   "source": [
    "df_taxi[df_taxi['dropoff_borough'].isnull()]"
   ]
  },
  {
   "cell_type": "markdown",
   "metadata": {},
   "source": [
    "__Not every zone has a designated name in our system, and therefore it simply isn't recorded in the data__"
   ]
  },
  {
   "cell_type": "markdown",
   "metadata": {},
   "source": [
    "__Let us fill in the missing values. Since all columns with missing values are of string type, one fills the missing values with the string 'NA'__"
   ]
  },
  {
   "cell_type": "code",
   "execution_count": 6,
   "metadata": {
    "ExecuteTime": {
     "end_time": "2024-09-11T20:48:25.192749Z",
     "start_time": "2024-09-11T20:48:25.185011Z"
    }
   },
   "outputs": [],
   "source": [
    "df_taxi_clean = df_taxi.fillna('NA')"
   ]
  },
  {
   "cell_type": "code",
   "execution_count": 7,
   "metadata": {
    "ExecuteTime": {
     "end_time": "2024-09-11T20:48:26.935096Z",
     "start_time": "2024-09-11T20:48:26.925289Z"
    }
   },
   "outputs": [
    {
     "data": {
      "text/plain": [
       "pickup             0\n",
       "dropoff            0\n",
       "passengers         0\n",
       "distance           0\n",
       "fare               0\n",
       "tip                0\n",
       "tolls              0\n",
       "total              0\n",
       "color              0\n",
       "payment            0\n",
       "pickup_zone        0\n",
       "dropoff_zone       0\n",
       "pickup_borough     0\n",
       "dropoff_borough    0\n",
       "dtype: int64"
      ]
     },
     "execution_count": 7,
     "metadata": {},
     "output_type": "execute_result"
    }
   ],
   "source": [
    "df_taxi_clean.isna().sum()"
   ]
  },
  {
   "cell_type": "markdown",
   "metadata": {},
   "source": [
    "# 2 Main data analysis"
   ]
  },
  {
   "cell_type": "markdown",
   "metadata": {},
   "source": [
    "__1: Let us look at the data over time. One converts the _Pickup_ column in the dataset to the datetime64[ns] format:__"
   ]
  },
  {
   "cell_type": "code",
   "execution_count": 8,
   "metadata": {
    "ExecuteTime": {
     "end_time": "2024-09-11T20:48:30.321109Z",
     "start_time": "2024-09-11T20:48:30.300884Z"
    }
   },
   "outputs": [
    {
     "data": {
      "text/plain": [
       "0   2019-03-23 20:21:09\n",
       "1   2019-03-04 16:11:55\n",
       "2   2019-03-27 17:53:01\n",
       "Name: pickup, dtype: datetime64[ns]"
      ]
     },
     "execution_count": 8,
     "metadata": {},
     "output_type": "execute_result"
    }
   ],
   "source": [
    "date_cols = ['pickup']\n",
    "df_taxi_clean[date_cols] = df_taxi_clean[date_cols].astype(\"datetime64[ns]\")\n",
    "df_taxi_clean.pickup.head(3)"
   ]
  },
  {
   "cell_type": "markdown",
   "metadata": {
    "ExecuteTime": {
     "end_time": "2022-11-09T10:59:29.928470Z",
     "start_time": "2022-11-09T10:59:29.900101Z"
    }
   },
   "source": [
    "__2: The `pickup`column currently contains data in the date-time format. One removes the time and perform analytics by day:__"
   ]
  },
  {
   "cell_type": "code",
   "execution_count": 9,
   "metadata": {
    "ExecuteTime": {
     "end_time": "2024-09-11T20:48:32.835454Z",
     "start_time": "2024-09-11T20:48:32.830477Z"
    }
   },
   "outputs": [],
   "source": [
    "df_taxi_clean['pickup_day'] = df_taxi_clean.pickup.dt.floor('d')"
   ]
  },
  {
   "cell_type": "markdown",
   "metadata": {},
   "source": [
    "__3: Let us group the data by `pickup_day` and plot a graph of total payments by day:__"
   ]
  },
  {
   "cell_type": "code",
   "execution_count": 10,
   "metadata": {
    "ExecuteTime": {
     "end_time": "2024-09-11T20:48:35.695818Z",
     "start_time": "2024-09-11T20:48:34.916602Z"
    }
   },
   "outputs": [
    {
     "data": {
      "image/png": "[encoded data removed]",
      "text/plain": [
       "<Figure size 640x400 with 1 Axes>"
      ]
     },
     "metadata": {
      "needs_background": "light"
     },
     "output_type": "display_data"
    }
   ],
   "source": [
    "dff_1 = df_taxi_clean.groupby('pickup_day').sum(numeric_only = True)\n",
    "plt.figure(figsize=(8,5), dpi=80)\n",
    "plt.plot('total', data = dff_1);"
   ]
  },
  {
   "cell_type": "markdown",
   "metadata": {},
   "source": [
    "__The unusual thing is that on all days, the total is between 3000 and 5000, but on one day, the total is close to zero__"
   ]
  },
  {
   "cell_type": "markdown",
   "metadata": {},
   "source": [
    "__4: Let us output the number of rows for each `pickup_day`:__"
   ]
  },
  {
   "cell_type": "code",
   "execution_count": 11,
   "metadata": {
    "ExecuteTime": {
     "end_time": "2024-09-11T20:48:38.399396Z",
     "start_time": "2024-09-11T20:48:38.392570Z"
    }
   },
   "outputs": [
    {
     "data": {
      "text/plain": [
       "pickup_day\n",
       "2019-02-28      1\n",
       "2019-03-01    370\n",
       "2019-03-02    310\n",
       "2019-03-03    264\n",
       "2019-03-04    267\n",
       "2019-03-05    382\n",
       "2019-03-06    390\n",
       "2019-03-07    331\n",
       "2019-03-08    332\n",
       "2019-03-09    325\n",
       "2019-03-10    301\n",
       "2019-03-11    316\n",
       "2019-03-12    320\n",
       "2019-03-13    355\n",
       "2019-03-14    358\n",
       "2019-03-15    299\n",
       "2019-03-16    349\n",
       "2019-03-17    278\n",
       "2019-03-18    274\n",
       "2019-03-19    292\n",
       "2019-03-20    382\n",
       "2019-03-21    320\n",
       "2019-03-22    348\n",
       "2019-03-23    340\n",
       "2019-03-24    252\n",
       "2019-03-25    234\n",
       "2019-03-26    266\n",
       "2019-03-27    352\n",
       "2019-03-28    327\n",
       "2019-03-29    312\n",
       "2019-03-30    359\n",
       "2019-03-31    296\n",
       "Name: passengers, dtype: int64"
      ]
     },
     "execution_count": 11,
     "metadata": {},
     "output_type": "execute_result"
    }
   ],
   "source": [
    "dff_1['passengers']"
   ]
  },
  {
   "cell_type": "markdown",
   "metadata": {},
   "source": [
    "__We see that for the date 2019-02-28, there is only one row. It seems like this entry was added by mistake. Let us delete the row from the `df_taxi_clean` dataset where `pickup_day` equals 2019-02-28. Then, one plots the graph of total payments by `pickup_day` again:__"
   ]
  },
  {
   "cell_type": "code",
   "execution_count": 12,
   "metadata": {
    "ExecuteTime": {
     "end_time": "2024-09-11T20:48:41.675201Z",
     "start_time": "2024-09-11T20:48:41.390308Z"
    }
   },
   "outputs": [
    {
     "data": {
      "image/png": "[encoded data removed]",
      "text/plain": [
       "<Figure size 640x400 with 1 Axes>"
      ]
     },
     "metadata": {
      "needs_background": "light"
     },
     "output_type": "display_data"
    }
   ],
   "source": [
    "df_taxi_clean = df_taxi_clean[df_taxi_clean.pickup_day != '2019-02-28']\n",
    "df_2 = df_taxi_clean.groupby('pickup_day').sum(numeric_only = True)\n",
    "plt.figure(figsize=(8,5), dpi=80)\n",
    "plt.plot('total', data = df_2);"
   ]
  },
  {
   "cell_type": "markdown",
   "metadata": {},
   "source": [
    "__5: Let us look at the dynamics of total payments by boroughs. One creates a pivot table based on `df_taxi_clean`, where the rows are `pickup_day`, the columns are `pickup_borough`, and the values are the sum of payments. Also one removes the column where `pickup_borough` equals NA:__"
   ]
  },
  {
   "cell_type": "code",
   "execution_count": 13,
   "metadata": {
    "ExecuteTime": {
     "end_time": "2024-09-11T20:48:45.741543Z",
     "start_time": "2024-09-11T20:48:45.718382Z"
    }
   },
   "outputs": [
    {
     "data": {
      "text/html": [
       "<div>\n",
       "<style scoped>\n",
       "    .dataframe tbody tr th:only-of-type {\n",
       "        vertical-align: middle;\n",
       "    }\n",
       "\n",
       "    .dataframe tbody tr th {\n",
       "        vertical-align: top;\n",
       "    }\n",
       "\n",
       "    .dataframe thead th {\n",
       "        text-align: right;\n",
       "    }\n",
       "</style>\n",
       "<table border=\"1\" class=\"dataframe\">\n",
       "  <thead>\n",
       "    <tr style=\"text-align: right;\">\n",
       "      <th>pickup_borough</th>\n",
       "      <th>Bronx</th>\n",
       "      <th>Brooklyn</th>\n",
       "      <th>Manhattan</th>\n",
       "      <th>Queens</th>\n",
       "    </tr>\n",
       "    <tr>\n",
       "      <th>pickup_day</th>\n",
       "      <th></th>\n",
       "      <th></th>\n",
       "      <th></th>\n",
       "      <th></th>\n",
       "    </tr>\n",
       "  </thead>\n",
       "  <tbody>\n",
       "    <tr>\n",
       "      <th>2019-03-01</th>\n",
       "      <td>123.42</td>\n",
       "      <td>353.05</td>\n",
       "      <td>3169.47</td>\n",
       "      <td>553.29</td>\n",
       "    </tr>\n",
       "    <tr>\n",
       "      <th>2019-03-02</th>\n",
       "      <td>NaN</td>\n",
       "      <td>146.56</td>\n",
       "      <td>2716.33</td>\n",
       "      <td>456.13</td>\n",
       "    </tr>\n",
       "    <tr>\n",
       "      <th>2019-03-03</th>\n",
       "      <td>80.75</td>\n",
       "      <td>407.06</td>\n",
       "      <td>2100.23</td>\n",
       "      <td>428.73</td>\n",
       "    </tr>\n",
       "  </tbody>\n",
       "</table>\n",
       "</div>"
      ],
      "text/plain": [
       "pickup_borough   Bronx  Brooklyn  Manhattan  Queens\n",
       "pickup_day                                         \n",
       "2019-03-01      123.42    353.05    3169.47  553.29\n",
       "2019-03-02         NaN    146.56    2716.33  456.13\n",
       "2019-03-03       80.75    407.06    2100.23  428.73"
      ]
     },
     "execution_count": 13,
     "metadata": {},
     "output_type": "execute_result"
    }
   ],
   "source": [
    "borough_pivot = df_taxi_clean.pivot_table(index='pickup_day', columns='pickup_borough', values='total',aggfunc = 'sum')\n",
    "\n",
    "borough_pivot = borough_pivot.drop('NA', axis = 1 )\n",
    "\n",
    "borough_pivot.head(3)"
   ]
  },
  {
   "cell_type": "markdown",
   "metadata": {},
   "source": [
    "__6: Let us see in which borough the highest daily taxi payments most frequently occur:__"
   ]
  },
  {
   "cell_type": "code",
   "execution_count": 14,
   "metadata": {
    "ExecuteTime": {
     "end_time": "2024-09-11T20:48:48.875249Z",
     "start_time": "2024-09-11T20:48:48.409860Z"
    },
    "scrolled": true
   },
   "outputs": [
    {
     "data": {
      "image/png": "[encoded data removed]",
      "text/plain": [
       "<Figure size 432x288 with 1 Axes>"
      ]
     },
     "metadata": {
      "needs_background": "light"
     },
     "output_type": "display_data"
    }
   ],
   "source": [
    "borough_pivot.fillna(0).plot();"
   ]
  },
  {
   "cell_type": "markdown",
   "metadata": {},
   "source": [
    "__The highest daily taxi payments are in the Manhattan borough__"
   ]
  },
  {
   "cell_type": "markdown",
   "metadata": {
    "ExecuteTime": {
     "end_time": "2022-11-09T11:14:40.876868Z",
     "start_time": "2022-11-09T11:14:40.791548Z"
    }
   },
   "source": [
    "__7: Let us display histograms of the total daily payments for taxi rides in each borough:__"
   ]
  },
  {
   "cell_type": "code",
   "execution_count": 15,
   "metadata": {
    "ExecuteTime": {
     "end_time": "2024-09-11T20:48:53.714785Z",
     "start_time": "2024-09-11T20:48:52.847980Z"
    }
   },
   "outputs": [
    {
     "data": {
      "image/png": "[encoded data removed]",
      "text/plain": [
       "<Figure size 432x288 with 4 Axes>"
      ]
     },
     "metadata": {
      "needs_background": "light"
     },
     "output_type": "display_data"
    }
   ],
   "source": [
    "borough_pivot.hist(bins=6)\n",
    "plt.tight_layout();"
   ]
  },
  {
   "cell_type": "markdown",
   "metadata": {},
   "source": [
    "__One sees that on the individual histograms, we have different ranges of checks.__ "
   ]
  },
  {
   "cell_type": "markdown",
   "metadata": {},
   "source": [
    "__8: One would like to compare the distributions of daily payment totals by boroughs. To do this, let us display 4 histograms on one figure:__"
   ]
  },
  {
   "cell_type": "code",
   "execution_count": 16,
   "metadata": {
    "ExecuteTime": {
     "end_time": "2024-09-11T20:54:59.711914Z",
     "start_time": "2024-09-11T20:54:59.375803Z"
    }
   },
   "outputs": [
    {
     "data": {
      "image/png": "[encoded data removed]",
      "text/plain": [
       "<Figure size 864x432 with 1 Axes>"
      ]
     },
     "metadata": {
      "needs_background": "light"
     },
     "output_type": "display_data"
    }
   ],
   "source": [
    "plt.figure(figsize=(12,6))\n",
    "for col in borough_pivot:\n",
    "    plt.hist(borough_pivot[col], bins=10, alpha=0.3, label= col) \n",
    "plt.xlabel('Daily total') \n",
    "plt.ylabel('Count of rides') \n",
    "plt.grid(True)\n",
    "plt.legend()\n",
    "plt.show();"
   ]
  },
  {
   "cell_type": "markdown",
   "metadata": {},
   "source": [
    "__9: Let us display histograms of the sum of monthly payments by car color:__"
   ]
  },
  {
   "cell_type": "code",
   "execution_count": 18,
   "metadata": {
    "ExecuteTime": {
     "end_time": "2024-09-11T21:03:01.224062Z",
     "start_time": "2024-09-11T21:03:00.049127Z"
    }
   },
   "outputs": [
    {
     "data": {
      "image/png": "[encoded data removed]",
      "text/plain": [
       "<Figure size 1500x750 with 1 Axes>"
      ]
     },
     "metadata": {
      "needs_background": "light"
     },
     "output_type": "display_data"
    }
   ],
   "source": [
    "plt.figure(figsize=(10, 5), dpi=150)  \n",
    "sns.histplot(x='total', hue='color', data=df_taxi_clean.sort_values('color'))\n",
    "plt.tight_layout()\n",
    "plt.show()"
   ]
  },
  {
   "cell_type": "markdown",
   "metadata": {},
   "source": [
    "__10: Is there a relationship between the trip distance and the size of the tip? To investigate this, one creates a scatter plot between trip distance and tip size:__"
   ]
  },
  {
   "cell_type": "code",
   "execution_count": 19,
   "metadata": {
    "ExecuteTime": {
     "end_time": "2024-09-11T21:08:34.650050Z",
     "start_time": "2024-09-11T21:08:33.965914Z"
    }
   },
   "outputs": [
    {
     "data": {
      "image/png": "[encoded data removed]",
      "text/plain": [
       "<Figure size 432x288 with 1 Axes>"
      ]
     },
     "metadata": {
      "needs_background": "light"
     },
     "output_type": "display_data"
    }
   ],
   "source": [
    "sns.regplot(\n",
    "    data = df_taxi_clean,\n",
    "    x = 'tip', y='distance', line_kws = {'color': 'red'}, scatter_kws={'s': 12, 'alpha': 0.2}\n",
    ");"
   ]
  },
  {
   "cell_type": "markdown",
   "metadata": {},
   "source": [
    "__The straight line of points, parallel to the axis on which the trip distance is plotted and positioned at the level of 0, indicates that some trips may have had no tips at all.__"
   ]
  },
  {
   "cell_type": "markdown",
   "metadata": {
    "ExecuteTime": {
     "end_time": "2022-11-10T15:11:02.637392Z",
     "start_time": "2022-11-10T15:11:02.629407Z"
    }
   },
   "source": [
    "__11: Let us plot the daily dynamics of tips by the boroughs where passengers were picked up:__"
   ]
  },
  {
   "cell_type": "code",
   "execution_count": 20,
   "metadata": {
    "ExecuteTime": {
     "end_time": "2024-09-12T09:29:21.291958Z",
     "start_time": "2024-09-12T09:29:17.220947Z"
    },
    "scrolled": true
   },
   "outputs": [
    {
     "data": {
      "image/png": "[encoded data removed]",
      "text/plain": [
       "<Figure size 432x288 with 1 Axes>"
      ]
     },
     "metadata": {
      "needs_background": "light"
     },
     "output_type": "display_data"
    }
   ],
   "source": [
    "sns.lineplot(x='pickup_day', y='tip', hue='pickup_borough', data=df_taxi_clean[df_taxi_clean.pickup_borough!='NA'])\n",
    "plt.xticks(rotation=45, ha='right');"
   ]
  },
  {
   "cell_type": "markdown",
   "metadata": {},
   "source": [
    "__When starting a trip in the Bronx, tips are given the least often.  \n",
    "When starting a trip in Queens, tips are given the most frequently.  \n",
    "For trips from Manhattan, the tip amount is the most consistent.__"
   ]
  },
  {
   "cell_type": "markdown",
   "metadata": {},
   "source": [
    "__12: Let us create a box plot of tip amounts by the borough (excluding `NA`) where the trip starts:__"
   ]
  },
  {
   "cell_type": "code",
   "execution_count": 161,
   "metadata": {
    "ExecuteTime": {
     "end_time": "2023-07-08T12:37:07.030991Z",
     "start_time": "2023-07-08T12:37:06.680262Z"
    }
   },
   "outputs": [
    {
     "data": {
      "text/plain": [
       "<seaborn.axisgrid.FacetGrid at 0x7fc2ccef12b0>"
      ]
     },
     "execution_count": 161,
     "metadata": {},
     "output_type": "execute_result"
    },
    {
     "data": {
      "image/png": "[encoded data removed]",
      "text/plain": [
       "<Figure size 360x360 with 1 Axes>"
      ]
     },
     "metadata": {
      "needs_background": "light"
     },
     "output_type": "display_data"
    }
   ],
   "source": [
    "df_no_NA = df_taxi_clean[df_taxi_clean.pickup_borough != 'NA']\n",
    "df_no_NA.head(50)\n",
    "sns.catplot(data = df_no_NA, x=\"pickup_borough\", y=\"tip\", kind=\"box\")"
   ]
  },
  {
   "cell_type": "markdown",
   "metadata": {
    "ExecuteTime": {
     "end_time": "2022-11-10T15:28:51.686760Z",
     "start_time": "2022-11-10T15:28:51.676955Z"
    }
   },
   "source": [
    "__13: Let us see if there is a correlation between the fare and the tip:__ "
   ]
  },
  {
   "cell_type": "code",
   "execution_count": 21,
   "metadata": {
    "ExecuteTime": {
     "end_time": "2024-09-12T10:01:57.992955Z",
     "start_time": "2024-09-12T10:01:57.085977Z"
    },
    "scrolled": true
   },
   "outputs": [
    {
     "data": {
      "image/png": "[encoded data removed]",
      "text/plain": [
       "<Figure size 432x288 with 1 Axes>"
      ]
     },
     "metadata": {
      "needs_background": "light"
     },
     "output_type": "display_data"
    }
   ],
   "source": [
    "sns.regplot(\n",
    "    data = df_taxi_clean,\n",
    "    x = 'fare', y='tip', line_kws = {'color': 'red'}, scatter_kws={'s': 12, 'alpha': 0.2}\n",
    ");"
   ]
  },
  {
   "cell_type": "markdown",
   "metadata": {},
   "source": [
    "__One can observe that there is a group of people who, even for expensive trips, do not leave tips.  \n",
    "Therefore, one should encourage people to leave tips (perhaps by offering them a small discount on their next trip)__"
   ]
  },
  {
   "cell_type": "markdown",
   "metadata": {},
   "source": [
    "__14: Let us investigate the relationship between the trip starting location and the number of passengers:__  "
   ]
  },
  {
   "cell_type": "code",
   "execution_count": 134,
   "metadata": {
    "ExecuteTime": {
     "end_time": "2023-07-08T10:51:10.559494Z",
     "start_time": "2023-07-08T10:51:10.384147Z"
    },
    "scrolled": true
   },
   "outputs": [
    {
     "data": {
      "image/png": "[encoded data removed]",
      "text/plain": [
       "<Figure size 640x400 with 1 Axes>"
      ]
     },
     "metadata": {
      "needs_background": "light"
     },
     "output_type": "display_data"
    }
   ],
   "source": [
    "df_4 = df_taxi_clean.groupby('pickup_borough').sum()\n",
    "plt.figure(figsize=(8,5), dpi=80)\n",
    "plt.plot('passengers', data = df_4);\n",
    "plt.title(\"Connection between pickup_borough and numbers of passengers\")\n",
    "plt.xlabel(\"pickup_borough\")\n",
    "plt.ylabel(\"numbers of passengers\");"
   ]
  },
  {
   "cell_type": "markdown",
   "metadata": {},
   "source": [
    "__One sees that the pickup borough located at Manhattan has the biggest amount of passengers.\n",
    "This fact indicates that there should always be a sufficient number of cars available in this area.\n",
    "Moreover, efforts should be made to increase the target audience in other boroughs (by increasing advertising or offering bonus deals).__"
   ]
  },
  {
   "cell_type": "markdown",
   "metadata": {},
   "source": [
    "__15: Let us see if there is a correlation between the pickup borough and distance:__"
   ]
  },
  {
   "cell_type": "code",
   "execution_count": 162,
   "metadata": {
    "ExecuteTime": {
     "end_time": "2023-07-08T12:39:22.052746Z",
     "start_time": "2023-07-08T12:39:21.612066Z"
    }
   },
   "outputs": [
    {
     "data": {
      "text/plain": [
       "<seaborn.axisgrid.FacetGrid at 0x7fc2cc62d850>"
      ]
     },
     "execution_count": 162,
     "metadata": {},
     "output_type": "execute_result"
    },
    {
     "data": {
      "image/png": "[encoded data removed]",
      "text/plain": [
       "<Figure size 360x360 with 1 Axes>"
      ]
     },
     "metadata": {
      "needs_background": "light"
     },
     "output_type": "display_data"
    }
   ],
   "source": [
    "sns.catplot(data = df_no_NA, x=\"pickup_borough\", y=\"distance\", kind=\"box\")"
   ]
  },
  {
   "cell_type": "markdown",
   "metadata": {},
   "source": [
    "__One sees that trips starting in Manhattan are usually short in distance.  \n",
    "Therefore, one could try to increase the trip distances, and with that, the profit as well.__"
   ]
  }
 ],
 "metadata": {
  "kernelspec": {
   "display_name": "Python 3",
   "language": "python",
   "name": "python3"
  },
  "language_info": {
   "codemirror_mode": {
    "name": "ipython",
    "version": 3
   },
   "file_extension": ".py",
   "mimetype": "text/x-python",
   "name": "python",
   "nbconvert_exporter": "python",
   "pygments_lexer": "ipython3",
   "version": "3.8.5"
  },
  "toc": {
   "base_numbering": 1,
   "nav_menu": {},
   "number_sections": true,
   "sideBar": true,
   "skip_h1_title": false,
   "title_cell": "Table of Contents",
   "title_sidebar": "Contents",
   "toc_cell": false,
   "toc_position": {},
   "toc_section_display": true,
   "toc_window_display": false
  },
  "vscode": {
   "interpreter": {
    "hash": "a6511e6b41b26ba86cca7483749cf4dd15bf137a2672e550741a656e19bba82e"
   }
  }
 },
 "nbformat": 4,
 "nbformat_minor": 5
}
